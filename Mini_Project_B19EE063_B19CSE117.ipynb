{
  "nbformat": 4,
  "nbformat_minor": 0,
  "metadata": {
    "colab": {
      "name": "Mini_Project.ipynb",
      "provenance": [],
      "collapsed_sections": []
    },
    "kernelspec": {
      "name": "python3",
      "display_name": "Python 3"
    },
    "language_info": {
      "name": "python"
    }
  },
  "cells": [
    {
      "cell_type": "code",
      "metadata": {
        "id": "NUcspAcFFYjc"
      },
      "source": [
        "import pandas as pd\n",
        "import cv2\n",
        "import numpy as np\n",
        "import seaborn as sns\n",
        "from matplotlib import pyplot as plt\n",
        "from sklearn.model_selection import train_test_split\n",
        "from sklearn.svm import SVC\n",
        "from sklearn.discriminant_analysis import LinearDiscriminantAnalysis\n",
        "from sklearn.model_selection import cross_val_score\n",
        "from sklearn.model_selection import GridSearchCV\n",
        "from sklearn.neighbors import KNeighborsClassifier\n",
        "from sklearn.neural_network import MLPClassifier\n",
        "from sklearn.metrics import f1_score,precision_score,recall_score\n",
        "from sklearn.cluster import KMeans"
      ],
      "execution_count": 17,
      "outputs": []
    },
    {
      "cell_type": "code",
      "metadata": {
        "colab": {
          "base_uri": "https://localhost:8080/"
        },
        "id": "m3SD3YVjdg7v",
        "outputId": "ada5a8ff-ef8d-4a9c-bd4b-bd80993da04e"
      },
      "source": [
        "from google.colab import drive\n",
        "drive.mount('/content/gdrive')"
      ],
      "execution_count": 2,
      "outputs": [
        {
          "output_type": "stream",
          "text": [
            "Mounted at /content/gdrive\n"
          ],
          "name": "stdout"
        }
      ]
    },
    {
      "cell_type": "markdown",
      "metadata": {
        "id": "ZVHXslHVKxiH"
      },
      "source": [
        "Importing Data"
      ]
    },
    {
      "cell_type": "code",
      "metadata": {
        "id": "HqO9zqu1Vdga"
      },
      "source": [
        "import pickle\n",
        "data = {}\n",
        "with open('/content/gdrive/MyDrive/Mini Project/data', 'rb') as handle:\n",
        "  data = pickle.load(handle)"
      ],
      "execution_count": 3,
      "outputs": []
    },
    {
      "cell_type": "code",
      "metadata": {
        "id": "Co9cPGX_Y4Ep"
      },
      "source": [
        "samples = data['samples']"
      ],
      "execution_count": 4,
      "outputs": []
    },
    {
      "cell_type": "code",
      "metadata": {
        "colab": {
          "base_uri": "https://localhost:8080/"
        },
        "id": "VkcfqaliY9kE",
        "outputId": "af214a04-1308-4e95-c332-80241f24fb99"
      },
      "source": [
        "samples = np.array(samples)\n",
        "samples.shape"
      ],
      "execution_count": 5,
      "outputs": [
        {
          "output_type": "execute_result",
          "data": {
            "text/plain": [
              "(4300, 3072)"
            ]
          },
          "metadata": {
            "tags": []
          },
          "execution_count": 5
        }
      ]
    },
    {
      "cell_type": "code",
      "metadata": {
        "colab": {
          "base_uri": "https://localhost:8080/"
        },
        "id": "b_mbvcS0ZPNR",
        "outputId": "23069008-847c-4c19-854f-0c78e000f3b7"
      },
      "source": [
        "samples"
      ],
      "execution_count": 6,
      "outputs": [
        {
          "output_type": "execute_result",
          "data": {
            "text/plain": [
              "array([[123, 167, 190, ..., 242, 233, 219],\n",
              "       [  5,   5,   5, ...,  39,  85,  92],\n",
              "       [ 20,  14,  18, ..., 198, 202, 202],\n",
              "       ...,\n",
              "       [126, 132, 140, ...,  18,  23,  21],\n",
              "       [200, 211, 219, ...,  35,  38,  43],\n",
              "       [ 17,  61, 159, ..., 154, 201, 229]], dtype=uint8)"
            ]
          },
          "metadata": {
            "tags": []
          },
          "execution_count": 6
        }
      ]
    },
    {
      "cell_type": "code",
      "metadata": {
        "colab": {
          "base_uri": "https://localhost:8080/",
          "height": 422
        },
        "id": "xi1G5F7DYS0b",
        "outputId": "813fc7c4-ba1f-4d74-b40e-f2df746e13ee"
      },
      "source": [
        "dic = {}\n",
        "for i in range(samples.shape[1]):\n",
        "  dic[i] = samples.T[i]\n",
        "df = pd.DataFrame(dic)\n",
        "df['labels'] = np.array(data['labels'])\n",
        "df"
      ],
      "execution_count": 7,
      "outputs": [
        {
          "output_type": "execute_result",
          "data": {
            "text/html": [
              "<div>\n",
              "<style scoped>\n",
              "    .dataframe tbody tr th:only-of-type {\n",
              "        vertical-align: middle;\n",
              "    }\n",
              "\n",
              "    .dataframe tbody tr th {\n",
              "        vertical-align: top;\n",
              "    }\n",
              "\n",
              "    .dataframe thead th {\n",
              "        text-align: right;\n",
              "    }\n",
              "</style>\n",
              "<table border=\"1\" class=\"dataframe\">\n",
              "  <thead>\n",
              "    <tr style=\"text-align: right;\">\n",
              "      <th></th>\n",
              "      <th>0</th>\n",
              "      <th>1</th>\n",
              "      <th>2</th>\n",
              "      <th>3</th>\n",
              "      <th>4</th>\n",
              "      <th>5</th>\n",
              "      <th>6</th>\n",
              "      <th>7</th>\n",
              "      <th>8</th>\n",
              "      <th>9</th>\n",
              "      <th>10</th>\n",
              "      <th>11</th>\n",
              "      <th>12</th>\n",
              "      <th>13</th>\n",
              "      <th>14</th>\n",
              "      <th>15</th>\n",
              "      <th>16</th>\n",
              "      <th>17</th>\n",
              "      <th>18</th>\n",
              "      <th>19</th>\n",
              "      <th>20</th>\n",
              "      <th>21</th>\n",
              "      <th>22</th>\n",
              "      <th>23</th>\n",
              "      <th>24</th>\n",
              "      <th>25</th>\n",
              "      <th>26</th>\n",
              "      <th>27</th>\n",
              "      <th>28</th>\n",
              "      <th>29</th>\n",
              "      <th>30</th>\n",
              "      <th>31</th>\n",
              "      <th>32</th>\n",
              "      <th>33</th>\n",
              "      <th>34</th>\n",
              "      <th>35</th>\n",
              "      <th>36</th>\n",
              "      <th>37</th>\n",
              "      <th>38</th>\n",
              "      <th>39</th>\n",
              "      <th>...</th>\n",
              "      <th>3033</th>\n",
              "      <th>3034</th>\n",
              "      <th>3035</th>\n",
              "      <th>3036</th>\n",
              "      <th>3037</th>\n",
              "      <th>3038</th>\n",
              "      <th>3039</th>\n",
              "      <th>3040</th>\n",
              "      <th>3041</th>\n",
              "      <th>3042</th>\n",
              "      <th>3043</th>\n",
              "      <th>3044</th>\n",
              "      <th>3045</th>\n",
              "      <th>3046</th>\n",
              "      <th>3047</th>\n",
              "      <th>3048</th>\n",
              "      <th>3049</th>\n",
              "      <th>3050</th>\n",
              "      <th>3051</th>\n",
              "      <th>3052</th>\n",
              "      <th>3053</th>\n",
              "      <th>3054</th>\n",
              "      <th>3055</th>\n",
              "      <th>3056</th>\n",
              "      <th>3057</th>\n",
              "      <th>3058</th>\n",
              "      <th>3059</th>\n",
              "      <th>3060</th>\n",
              "      <th>3061</th>\n",
              "      <th>3062</th>\n",
              "      <th>3063</th>\n",
              "      <th>3064</th>\n",
              "      <th>3065</th>\n",
              "      <th>3066</th>\n",
              "      <th>3067</th>\n",
              "      <th>3068</th>\n",
              "      <th>3069</th>\n",
              "      <th>3070</th>\n",
              "      <th>3071</th>\n",
              "      <th>labels</th>\n",
              "    </tr>\n",
              "  </thead>\n",
              "  <tbody>\n",
              "    <tr>\n",
              "      <th>0</th>\n",
              "      <td>123</td>\n",
              "      <td>167</td>\n",
              "      <td>190</td>\n",
              "      <td>120</td>\n",
              "      <td>167</td>\n",
              "      <td>191</td>\n",
              "      <td>110</td>\n",
              "      <td>148</td>\n",
              "      <td>172</td>\n",
              "      <td>91</td>\n",
              "      <td>114</td>\n",
              "      <td>142</td>\n",
              "      <td>83</td>\n",
              "      <td>93</td>\n",
              "      <td>125</td>\n",
              "      <td>83</td>\n",
              "      <td>82</td>\n",
              "      <td>120</td>\n",
              "      <td>73</td>\n",
              "      <td>74</td>\n",
              "      <td>112</td>\n",
              "      <td>55</td>\n",
              "      <td>60</td>\n",
              "      <td>101</td>\n",
              "      <td>70</td>\n",
              "      <td>76</td>\n",
              "      <td>121</td>\n",
              "      <td>90</td>\n",
              "      <td>100</td>\n",
              "      <td>146</td>\n",
              "      <td>114</td>\n",
              "      <td>117</td>\n",
              "      <td>165</td>\n",
              "      <td>118</td>\n",
              "      <td>126</td>\n",
              "      <td>172</td>\n",
              "      <td>112</td>\n",
              "      <td>122</td>\n",
              "      <td>168</td>\n",
              "      <td>103</td>\n",
              "      <td>...</td>\n",
              "      <td>138</td>\n",
              "      <td>169</td>\n",
              "      <td>197</td>\n",
              "      <td>127</td>\n",
              "      <td>156</td>\n",
              "      <td>191</td>\n",
              "      <td>100</td>\n",
              "      <td>131</td>\n",
              "      <td>177</td>\n",
              "      <td>89</td>\n",
              "      <td>124</td>\n",
              "      <td>173</td>\n",
              "      <td>92</td>\n",
              "      <td>123</td>\n",
              "      <td>169</td>\n",
              "      <td>94</td>\n",
              "      <td>123</td>\n",
              "      <td>169</td>\n",
              "      <td>78</td>\n",
              "      <td>102</td>\n",
              "      <td>149</td>\n",
              "      <td>80</td>\n",
              "      <td>101</td>\n",
              "      <td>138</td>\n",
              "      <td>132</td>\n",
              "      <td>147</td>\n",
              "      <td>168</td>\n",
              "      <td>192</td>\n",
              "      <td>191</td>\n",
              "      <td>202</td>\n",
              "      <td>218</td>\n",
              "      <td>211</td>\n",
              "      <td>209</td>\n",
              "      <td>233</td>\n",
              "      <td>219</td>\n",
              "      <td>215</td>\n",
              "      <td>242</td>\n",
              "      <td>233</td>\n",
              "      <td>219</td>\n",
              "      <td>0</td>\n",
              "    </tr>\n",
              "    <tr>\n",
              "      <th>1</th>\n",
              "      <td>5</td>\n",
              "      <td>5</td>\n",
              "      <td>5</td>\n",
              "      <td>7</td>\n",
              "      <td>12</td>\n",
              "      <td>11</td>\n",
              "      <td>15</td>\n",
              "      <td>23</td>\n",
              "      <td>22</td>\n",
              "      <td>8</td>\n",
              "      <td>25</td>\n",
              "      <td>22</td>\n",
              "      <td>9</td>\n",
              "      <td>23</td>\n",
              "      <td>21</td>\n",
              "      <td>15</td>\n",
              "      <td>28</td>\n",
              "      <td>26</td>\n",
              "      <td>15</td>\n",
              "      <td>26</td>\n",
              "      <td>25</td>\n",
              "      <td>9</td>\n",
              "      <td>20</td>\n",
              "      <td>18</td>\n",
              "      <td>14</td>\n",
              "      <td>25</td>\n",
              "      <td>23</td>\n",
              "      <td>19</td>\n",
              "      <td>30</td>\n",
              "      <td>28</td>\n",
              "      <td>11</td>\n",
              "      <td>24</td>\n",
              "      <td>20</td>\n",
              "      <td>7</td>\n",
              "      <td>18</td>\n",
              "      <td>16</td>\n",
              "      <td>8</td>\n",
              "      <td>17</td>\n",
              "      <td>17</td>\n",
              "      <td>14</td>\n",
              "      <td>...</td>\n",
              "      <td>121</td>\n",
              "      <td>163</td>\n",
              "      <td>205</td>\n",
              "      <td>116</td>\n",
              "      <td>160</td>\n",
              "      <td>197</td>\n",
              "      <td>99</td>\n",
              "      <td>144</td>\n",
              "      <td>177</td>\n",
              "      <td>79</td>\n",
              "      <td>123</td>\n",
              "      <td>160</td>\n",
              "      <td>77</td>\n",
              "      <td>119</td>\n",
              "      <td>161</td>\n",
              "      <td>89</td>\n",
              "      <td>129</td>\n",
              "      <td>178</td>\n",
              "      <td>100</td>\n",
              "      <td>139</td>\n",
              "      <td>191</td>\n",
              "      <td>101</td>\n",
              "      <td>138</td>\n",
              "      <td>196</td>\n",
              "      <td>100</td>\n",
              "      <td>137</td>\n",
              "      <td>193</td>\n",
              "      <td>97</td>\n",
              "      <td>139</td>\n",
              "      <td>184</td>\n",
              "      <td>79</td>\n",
              "      <td>135</td>\n",
              "      <td>161</td>\n",
              "      <td>56</td>\n",
              "      <td>108</td>\n",
              "      <td>124</td>\n",
              "      <td>39</td>\n",
              "      <td>85</td>\n",
              "      <td>92</td>\n",
              "      <td>0</td>\n",
              "    </tr>\n",
              "    <tr>\n",
              "      <th>2</th>\n",
              "      <td>20</td>\n",
              "      <td>14</td>\n",
              "      <td>18</td>\n",
              "      <td>32</td>\n",
              "      <td>22</td>\n",
              "      <td>25</td>\n",
              "      <td>33</td>\n",
              "      <td>22</td>\n",
              "      <td>29</td>\n",
              "      <td>22</td>\n",
              "      <td>17</td>\n",
              "      <td>18</td>\n",
              "      <td>28</td>\n",
              "      <td>22</td>\n",
              "      <td>19</td>\n",
              "      <td>46</td>\n",
              "      <td>38</td>\n",
              "      <td>33</td>\n",
              "      <td>51</td>\n",
              "      <td>40</td>\n",
              "      <td>37</td>\n",
              "      <td>36</td>\n",
              "      <td>24</td>\n",
              "      <td>26</td>\n",
              "      <td>37</td>\n",
              "      <td>32</td>\n",
              "      <td>33</td>\n",
              "      <td>71</td>\n",
              "      <td>68</td>\n",
              "      <td>69</td>\n",
              "      <td>100</td>\n",
              "      <td>94</td>\n",
              "      <td>95</td>\n",
              "      <td>94</td>\n",
              "      <td>90</td>\n",
              "      <td>89</td>\n",
              "      <td>52</td>\n",
              "      <td>44</td>\n",
              "      <td>41</td>\n",
              "      <td>32</td>\n",
              "      <td>...</td>\n",
              "      <td>54</td>\n",
              "      <td>48</td>\n",
              "      <td>54</td>\n",
              "      <td>83</td>\n",
              "      <td>82</td>\n",
              "      <td>91</td>\n",
              "      <td>113</td>\n",
              "      <td>116</td>\n",
              "      <td>123</td>\n",
              "      <td>146</td>\n",
              "      <td>146</td>\n",
              "      <td>158</td>\n",
              "      <td>161</td>\n",
              "      <td>162</td>\n",
              "      <td>176</td>\n",
              "      <td>178</td>\n",
              "      <td>179</td>\n",
              "      <td>192</td>\n",
              "      <td>180</td>\n",
              "      <td>184</td>\n",
              "      <td>195</td>\n",
              "      <td>185</td>\n",
              "      <td>193</td>\n",
              "      <td>205</td>\n",
              "      <td>192</td>\n",
              "      <td>201</td>\n",
              "      <td>211</td>\n",
              "      <td>195</td>\n",
              "      <td>204</td>\n",
              "      <td>213</td>\n",
              "      <td>198</td>\n",
              "      <td>208</td>\n",
              "      <td>215</td>\n",
              "      <td>202</td>\n",
              "      <td>203</td>\n",
              "      <td>207</td>\n",
              "      <td>198</td>\n",
              "      <td>202</td>\n",
              "      <td>202</td>\n",
              "      <td>0</td>\n",
              "    </tr>\n",
              "    <tr>\n",
              "      <th>3</th>\n",
              "      <td>30</td>\n",
              "      <td>33</td>\n",
              "      <td>44</td>\n",
              "      <td>31</td>\n",
              "      <td>32</td>\n",
              "      <td>42</td>\n",
              "      <td>28</td>\n",
              "      <td>30</td>\n",
              "      <td>38</td>\n",
              "      <td>34</td>\n",
              "      <td>37</td>\n",
              "      <td>45</td>\n",
              "      <td>35</td>\n",
              "      <td>46</td>\n",
              "      <td>45</td>\n",
              "      <td>37</td>\n",
              "      <td>47</td>\n",
              "      <td>47</td>\n",
              "      <td>44</td>\n",
              "      <td>55</td>\n",
              "      <td>57</td>\n",
              "      <td>50</td>\n",
              "      <td>62</td>\n",
              "      <td>64</td>\n",
              "      <td>59</td>\n",
              "      <td>68</td>\n",
              "      <td>71</td>\n",
              "      <td>68</td>\n",
              "      <td>80</td>\n",
              "      <td>84</td>\n",
              "      <td>71</td>\n",
              "      <td>87</td>\n",
              "      <td>93</td>\n",
              "      <td>77</td>\n",
              "      <td>95</td>\n",
              "      <td>102</td>\n",
              "      <td>66</td>\n",
              "      <td>83</td>\n",
              "      <td>93</td>\n",
              "      <td>78</td>\n",
              "      <td>...</td>\n",
              "      <td>126</td>\n",
              "      <td>131</td>\n",
              "      <td>214</td>\n",
              "      <td>141</td>\n",
              "      <td>149</td>\n",
              "      <td>230</td>\n",
              "      <td>156</td>\n",
              "      <td>166</td>\n",
              "      <td>244</td>\n",
              "      <td>142</td>\n",
              "      <td>154</td>\n",
              "      <td>232</td>\n",
              "      <td>135</td>\n",
              "      <td>149</td>\n",
              "      <td>231</td>\n",
              "      <td>136</td>\n",
              "      <td>153</td>\n",
              "      <td>246</td>\n",
              "      <td>125</td>\n",
              "      <td>149</td>\n",
              "      <td>245</td>\n",
              "      <td>129</td>\n",
              "      <td>159</td>\n",
              "      <td>242</td>\n",
              "      <td>140</td>\n",
              "      <td>173</td>\n",
              "      <td>244</td>\n",
              "      <td>64</td>\n",
              "      <td>93</td>\n",
              "      <td>149</td>\n",
              "      <td>20</td>\n",
              "      <td>46</td>\n",
              "      <td>91</td>\n",
              "      <td>43</td>\n",
              "      <td>68</td>\n",
              "      <td>110</td>\n",
              "      <td>78</td>\n",
              "      <td>109</td>\n",
              "      <td>151</td>\n",
              "      <td>0</td>\n",
              "    </tr>\n",
              "    <tr>\n",
              "      <th>4</th>\n",
              "      <td>63</td>\n",
              "      <td>90</td>\n",
              "      <td>126</td>\n",
              "      <td>49</td>\n",
              "      <td>71</td>\n",
              "      <td>113</td>\n",
              "      <td>44</td>\n",
              "      <td>66</td>\n",
              "      <td>109</td>\n",
              "      <td>47</td>\n",
              "      <td>68</td>\n",
              "      <td>111</td>\n",
              "      <td>39</td>\n",
              "      <td>57</td>\n",
              "      <td>104</td>\n",
              "      <td>41</td>\n",
              "      <td>62</td>\n",
              "      <td>109</td>\n",
              "      <td>43</td>\n",
              "      <td>69</td>\n",
              "      <td>119</td>\n",
              "      <td>54</td>\n",
              "      <td>93</td>\n",
              "      <td>142</td>\n",
              "      <td>78</td>\n",
              "      <td>113</td>\n",
              "      <td>166</td>\n",
              "      <td>82</td>\n",
              "      <td>117</td>\n",
              "      <td>169</td>\n",
              "      <td>84</td>\n",
              "      <td>115</td>\n",
              "      <td>165</td>\n",
              "      <td>42</td>\n",
              "      <td>67</td>\n",
              "      <td>113</td>\n",
              "      <td>27</td>\n",
              "      <td>48</td>\n",
              "      <td>95</td>\n",
              "      <td>45</td>\n",
              "      <td>...</td>\n",
              "      <td>131</td>\n",
              "      <td>144</td>\n",
              "      <td>182</td>\n",
              "      <td>128</td>\n",
              "      <td>143</td>\n",
              "      <td>181</td>\n",
              "      <td>126</td>\n",
              "      <td>144</td>\n",
              "      <td>181</td>\n",
              "      <td>124</td>\n",
              "      <td>143</td>\n",
              "      <td>181</td>\n",
              "      <td>125</td>\n",
              "      <td>147</td>\n",
              "      <td>182</td>\n",
              "      <td>128</td>\n",
              "      <td>152</td>\n",
              "      <td>188</td>\n",
              "      <td>124</td>\n",
              "      <td>147</td>\n",
              "      <td>185</td>\n",
              "      <td>112</td>\n",
              "      <td>135</td>\n",
              "      <td>173</td>\n",
              "      <td>99</td>\n",
              "      <td>116</td>\n",
              "      <td>154</td>\n",
              "      <td>87</td>\n",
              "      <td>93</td>\n",
              "      <td>131</td>\n",
              "      <td>72</td>\n",
              "      <td>77</td>\n",
              "      <td>107</td>\n",
              "      <td>29</td>\n",
              "      <td>33</td>\n",
              "      <td>58</td>\n",
              "      <td>14</td>\n",
              "      <td>15</td>\n",
              "      <td>34</td>\n",
              "      <td>0</td>\n",
              "    </tr>\n",
              "    <tr>\n",
              "      <th>...</th>\n",
              "      <td>...</td>\n",
              "      <td>...</td>\n",
              "      <td>...</td>\n",
              "      <td>...</td>\n",
              "      <td>...</td>\n",
              "      <td>...</td>\n",
              "      <td>...</td>\n",
              "      <td>...</td>\n",
              "      <td>...</td>\n",
              "      <td>...</td>\n",
              "      <td>...</td>\n",
              "      <td>...</td>\n",
              "      <td>...</td>\n",
              "      <td>...</td>\n",
              "      <td>...</td>\n",
              "      <td>...</td>\n",
              "      <td>...</td>\n",
              "      <td>...</td>\n",
              "      <td>...</td>\n",
              "      <td>...</td>\n",
              "      <td>...</td>\n",
              "      <td>...</td>\n",
              "      <td>...</td>\n",
              "      <td>...</td>\n",
              "      <td>...</td>\n",
              "      <td>...</td>\n",
              "      <td>...</td>\n",
              "      <td>...</td>\n",
              "      <td>...</td>\n",
              "      <td>...</td>\n",
              "      <td>...</td>\n",
              "      <td>...</td>\n",
              "      <td>...</td>\n",
              "      <td>...</td>\n",
              "      <td>...</td>\n",
              "      <td>...</td>\n",
              "      <td>...</td>\n",
              "      <td>...</td>\n",
              "      <td>...</td>\n",
              "      <td>...</td>\n",
              "      <td>...</td>\n",
              "      <td>...</td>\n",
              "      <td>...</td>\n",
              "      <td>...</td>\n",
              "      <td>...</td>\n",
              "      <td>...</td>\n",
              "      <td>...</td>\n",
              "      <td>...</td>\n",
              "      <td>...</td>\n",
              "      <td>...</td>\n",
              "      <td>...</td>\n",
              "      <td>...</td>\n",
              "      <td>...</td>\n",
              "      <td>...</td>\n",
              "      <td>...</td>\n",
              "      <td>...</td>\n",
              "      <td>...</td>\n",
              "      <td>...</td>\n",
              "      <td>...</td>\n",
              "      <td>...</td>\n",
              "      <td>...</td>\n",
              "      <td>...</td>\n",
              "      <td>...</td>\n",
              "      <td>...</td>\n",
              "      <td>...</td>\n",
              "      <td>...</td>\n",
              "      <td>...</td>\n",
              "      <td>...</td>\n",
              "      <td>...</td>\n",
              "      <td>...</td>\n",
              "      <td>...</td>\n",
              "      <td>...</td>\n",
              "      <td>...</td>\n",
              "      <td>...</td>\n",
              "      <td>...</td>\n",
              "      <td>...</td>\n",
              "      <td>...</td>\n",
              "      <td>...</td>\n",
              "      <td>...</td>\n",
              "      <td>...</td>\n",
              "      <td>...</td>\n",
              "    </tr>\n",
              "    <tr>\n",
              "      <th>4295</th>\n",
              "      <td>227</td>\n",
              "      <td>200</td>\n",
              "      <td>182</td>\n",
              "      <td>212</td>\n",
              "      <td>184</td>\n",
              "      <td>167</td>\n",
              "      <td>200</td>\n",
              "      <td>171</td>\n",
              "      <td>156</td>\n",
              "      <td>195</td>\n",
              "      <td>169</td>\n",
              "      <td>154</td>\n",
              "      <td>211</td>\n",
              "      <td>185</td>\n",
              "      <td>172</td>\n",
              "      <td>192</td>\n",
              "      <td>165</td>\n",
              "      <td>153</td>\n",
              "      <td>178</td>\n",
              "      <td>152</td>\n",
              "      <td>140</td>\n",
              "      <td>106</td>\n",
              "      <td>81</td>\n",
              "      <td>70</td>\n",
              "      <td>64</td>\n",
              "      <td>41</td>\n",
              "      <td>29</td>\n",
              "      <td>117</td>\n",
              "      <td>94</td>\n",
              "      <td>84</td>\n",
              "      <td>131</td>\n",
              "      <td>108</td>\n",
              "      <td>99</td>\n",
              "      <td>64</td>\n",
              "      <td>42</td>\n",
              "      <td>34</td>\n",
              "      <td>46</td>\n",
              "      <td>25</td>\n",
              "      <td>18</td>\n",
              "      <td>45</td>\n",
              "      <td>...</td>\n",
              "      <td>34</td>\n",
              "      <td>31</td>\n",
              "      <td>30</td>\n",
              "      <td>33</td>\n",
              "      <td>29</td>\n",
              "      <td>28</td>\n",
              "      <td>45</td>\n",
              "      <td>44</td>\n",
              "      <td>43</td>\n",
              "      <td>46</td>\n",
              "      <td>44</td>\n",
              "      <td>43</td>\n",
              "      <td>53</td>\n",
              "      <td>51</td>\n",
              "      <td>50</td>\n",
              "      <td>52</td>\n",
              "      <td>50</td>\n",
              "      <td>50</td>\n",
              "      <td>56</td>\n",
              "      <td>54</td>\n",
              "      <td>58</td>\n",
              "      <td>28</td>\n",
              "      <td>35</td>\n",
              "      <td>45</td>\n",
              "      <td>70</td>\n",
              "      <td>89</td>\n",
              "      <td>109</td>\n",
              "      <td>197</td>\n",
              "      <td>227</td>\n",
              "      <td>255</td>\n",
              "      <td>173</td>\n",
              "      <td>214</td>\n",
              "      <td>254</td>\n",
              "      <td>170</td>\n",
              "      <td>213</td>\n",
              "      <td>255</td>\n",
              "      <td>185</td>\n",
              "      <td>218</td>\n",
              "      <td>254</td>\n",
              "      <td>1</td>\n",
              "    </tr>\n",
              "    <tr>\n",
              "      <th>4296</th>\n",
              "      <td>102</td>\n",
              "      <td>93</td>\n",
              "      <td>225</td>\n",
              "      <td>125</td>\n",
              "      <td>115</td>\n",
              "      <td>239</td>\n",
              "      <td>143</td>\n",
              "      <td>131</td>\n",
              "      <td>243</td>\n",
              "      <td>158</td>\n",
              "      <td>142</td>\n",
              "      <td>241</td>\n",
              "      <td>165</td>\n",
              "      <td>147</td>\n",
              "      <td>238</td>\n",
              "      <td>189</td>\n",
              "      <td>173</td>\n",
              "      <td>255</td>\n",
              "      <td>180</td>\n",
              "      <td>166</td>\n",
              "      <td>252</td>\n",
              "      <td>143</td>\n",
              "      <td>130</td>\n",
              "      <td>221</td>\n",
              "      <td>146</td>\n",
              "      <td>131</td>\n",
              "      <td>220</td>\n",
              "      <td>169</td>\n",
              "      <td>149</td>\n",
              "      <td>241</td>\n",
              "      <td>138</td>\n",
              "      <td>120</td>\n",
              "      <td>214</td>\n",
              "      <td>152</td>\n",
              "      <td>146</td>\n",
              "      <td>221</td>\n",
              "      <td>161</td>\n",
              "      <td>165</td>\n",
              "      <td>217</td>\n",
              "      <td>158</td>\n",
              "      <td>...</td>\n",
              "      <td>122</td>\n",
              "      <td>126</td>\n",
              "      <td>165</td>\n",
              "      <td>111</td>\n",
              "      <td>107</td>\n",
              "      <td>151</td>\n",
              "      <td>117</td>\n",
              "      <td>108</td>\n",
              "      <td>150</td>\n",
              "      <td>127</td>\n",
              "      <td>113</td>\n",
              "      <td>161</td>\n",
              "      <td>160</td>\n",
              "      <td>147</td>\n",
              "      <td>216</td>\n",
              "      <td>49</td>\n",
              "      <td>45</td>\n",
              "      <td>155</td>\n",
              "      <td>79</td>\n",
              "      <td>78</td>\n",
              "      <td>224</td>\n",
              "      <td>136</td>\n",
              "      <td>129</td>\n",
              "      <td>254</td>\n",
              "      <td>195</td>\n",
              "      <td>187</td>\n",
              "      <td>249</td>\n",
              "      <td>222</td>\n",
              "      <td>219</td>\n",
              "      <td>241</td>\n",
              "      <td>232</td>\n",
              "      <td>230</td>\n",
              "      <td>235</td>\n",
              "      <td>243</td>\n",
              "      <td>237</td>\n",
              "      <td>248</td>\n",
              "      <td>248</td>\n",
              "      <td>237</td>\n",
              "      <td>255</td>\n",
              "      <td>1</td>\n",
              "    </tr>\n",
              "    <tr>\n",
              "      <th>4297</th>\n",
              "      <td>126</td>\n",
              "      <td>132</td>\n",
              "      <td>140</td>\n",
              "      <td>135</td>\n",
              "      <td>141</td>\n",
              "      <td>147</td>\n",
              "      <td>96</td>\n",
              "      <td>102</td>\n",
              "      <td>107</td>\n",
              "      <td>178</td>\n",
              "      <td>184</td>\n",
              "      <td>189</td>\n",
              "      <td>238</td>\n",
              "      <td>245</td>\n",
              "      <td>249</td>\n",
              "      <td>215</td>\n",
              "      <td>221</td>\n",
              "      <td>226</td>\n",
              "      <td>197</td>\n",
              "      <td>206</td>\n",
              "      <td>213</td>\n",
              "      <td>185</td>\n",
              "      <td>195</td>\n",
              "      <td>204</td>\n",
              "      <td>196</td>\n",
              "      <td>207</td>\n",
              "      <td>217</td>\n",
              "      <td>198</td>\n",
              "      <td>209</td>\n",
              "      <td>224</td>\n",
              "      <td>192</td>\n",
              "      <td>205</td>\n",
              "      <td>220</td>\n",
              "      <td>193</td>\n",
              "      <td>208</td>\n",
              "      <td>224</td>\n",
              "      <td>189</td>\n",
              "      <td>210</td>\n",
              "      <td>229</td>\n",
              "      <td>175</td>\n",
              "      <td>...</td>\n",
              "      <td>107</td>\n",
              "      <td>127</td>\n",
              "      <td>167</td>\n",
              "      <td>104</td>\n",
              "      <td>128</td>\n",
              "      <td>167</td>\n",
              "      <td>95</td>\n",
              "      <td>120</td>\n",
              "      <td>164</td>\n",
              "      <td>84</td>\n",
              "      <td>111</td>\n",
              "      <td>154</td>\n",
              "      <td>80</td>\n",
              "      <td>105</td>\n",
              "      <td>146</td>\n",
              "      <td>84</td>\n",
              "      <td>106</td>\n",
              "      <td>140</td>\n",
              "      <td>80</td>\n",
              "      <td>102</td>\n",
              "      <td>130</td>\n",
              "      <td>84</td>\n",
              "      <td>101</td>\n",
              "      <td>122</td>\n",
              "      <td>41</td>\n",
              "      <td>52</td>\n",
              "      <td>66</td>\n",
              "      <td>11</td>\n",
              "      <td>19</td>\n",
              "      <td>26</td>\n",
              "      <td>8</td>\n",
              "      <td>16</td>\n",
              "      <td>16</td>\n",
              "      <td>12</td>\n",
              "      <td>17</td>\n",
              "      <td>17</td>\n",
              "      <td>18</td>\n",
              "      <td>23</td>\n",
              "      <td>21</td>\n",
              "      <td>1</td>\n",
              "    </tr>\n",
              "    <tr>\n",
              "      <th>4298</th>\n",
              "      <td>200</td>\n",
              "      <td>211</td>\n",
              "      <td>219</td>\n",
              "      <td>190</td>\n",
              "      <td>202</td>\n",
              "      <td>210</td>\n",
              "      <td>178</td>\n",
              "      <td>191</td>\n",
              "      <td>199</td>\n",
              "      <td>186</td>\n",
              "      <td>198</td>\n",
              "      <td>209</td>\n",
              "      <td>178</td>\n",
              "      <td>191</td>\n",
              "      <td>203</td>\n",
              "      <td>145</td>\n",
              "      <td>161</td>\n",
              "      <td>173</td>\n",
              "      <td>117</td>\n",
              "      <td>133</td>\n",
              "      <td>148</td>\n",
              "      <td>110</td>\n",
              "      <td>124</td>\n",
              "      <td>142</td>\n",
              "      <td>115</td>\n",
              "      <td>130</td>\n",
              "      <td>150</td>\n",
              "      <td>129</td>\n",
              "      <td>147</td>\n",
              "      <td>169</td>\n",
              "      <td>142</td>\n",
              "      <td>157</td>\n",
              "      <td>182</td>\n",
              "      <td>144</td>\n",
              "      <td>160</td>\n",
              "      <td>187</td>\n",
              "      <td>138</td>\n",
              "      <td>155</td>\n",
              "      <td>182</td>\n",
              "      <td>144</td>\n",
              "      <td>...</td>\n",
              "      <td>170</td>\n",
              "      <td>174</td>\n",
              "      <td>174</td>\n",
              "      <td>166</td>\n",
              "      <td>171</td>\n",
              "      <td>170</td>\n",
              "      <td>162</td>\n",
              "      <td>167</td>\n",
              "      <td>166</td>\n",
              "      <td>160</td>\n",
              "      <td>164</td>\n",
              "      <td>165</td>\n",
              "      <td>162</td>\n",
              "      <td>167</td>\n",
              "      <td>170</td>\n",
              "      <td>164</td>\n",
              "      <td>171</td>\n",
              "      <td>174</td>\n",
              "      <td>169</td>\n",
              "      <td>178</td>\n",
              "      <td>181</td>\n",
              "      <td>140</td>\n",
              "      <td>148</td>\n",
              "      <td>152</td>\n",
              "      <td>90</td>\n",
              "      <td>95</td>\n",
              "      <td>100</td>\n",
              "      <td>39</td>\n",
              "      <td>42</td>\n",
              "      <td>47</td>\n",
              "      <td>14</td>\n",
              "      <td>18</td>\n",
              "      <td>23</td>\n",
              "      <td>22</td>\n",
              "      <td>26</td>\n",
              "      <td>31</td>\n",
              "      <td>35</td>\n",
              "      <td>38</td>\n",
              "      <td>43</td>\n",
              "      <td>1</td>\n",
              "    </tr>\n",
              "    <tr>\n",
              "      <th>4299</th>\n",
              "      <td>17</td>\n",
              "      <td>61</td>\n",
              "      <td>159</td>\n",
              "      <td>10</td>\n",
              "      <td>31</td>\n",
              "      <td>59</td>\n",
              "      <td>26</td>\n",
              "      <td>68</td>\n",
              "      <td>117</td>\n",
              "      <td>19</td>\n",
              "      <td>92</td>\n",
              "      <td>173</td>\n",
              "      <td>16</td>\n",
              "      <td>92</td>\n",
              "      <td>184</td>\n",
              "      <td>12</td>\n",
              "      <td>97</td>\n",
              "      <td>193</td>\n",
              "      <td>2</td>\n",
              "      <td>84</td>\n",
              "      <td>179</td>\n",
              "      <td>5</td>\n",
              "      <td>73</td>\n",
              "      <td>174</td>\n",
              "      <td>10</td>\n",
              "      <td>69</td>\n",
              "      <td>172</td>\n",
              "      <td>2</td>\n",
              "      <td>59</td>\n",
              "      <td>165</td>\n",
              "      <td>6</td>\n",
              "      <td>49</td>\n",
              "      <td>160</td>\n",
              "      <td>8</td>\n",
              "      <td>53</td>\n",
              "      <td>160</td>\n",
              "      <td>0</td>\n",
              "      <td>38</td>\n",
              "      <td>150</td>\n",
              "      <td>1</td>\n",
              "      <td>...</td>\n",
              "      <td>144</td>\n",
              "      <td>172</td>\n",
              "      <td>186</td>\n",
              "      <td>158</td>\n",
              "      <td>182</td>\n",
              "      <td>206</td>\n",
              "      <td>196</td>\n",
              "      <td>222</td>\n",
              "      <td>239</td>\n",
              "      <td>128</td>\n",
              "      <td>184</td>\n",
              "      <td>222</td>\n",
              "      <td>85</td>\n",
              "      <td>155</td>\n",
              "      <td>192</td>\n",
              "      <td>152</td>\n",
              "      <td>200</td>\n",
              "      <td>227</td>\n",
              "      <td>131</td>\n",
              "      <td>189</td>\n",
              "      <td>222</td>\n",
              "      <td>93</td>\n",
              "      <td>154</td>\n",
              "      <td>191</td>\n",
              "      <td>146</td>\n",
              "      <td>180</td>\n",
              "      <td>216</td>\n",
              "      <td>106</td>\n",
              "      <td>171</td>\n",
              "      <td>207</td>\n",
              "      <td>146</td>\n",
              "      <td>190</td>\n",
              "      <td>225</td>\n",
              "      <td>153</td>\n",
              "      <td>197</td>\n",
              "      <td>224</td>\n",
              "      <td>154</td>\n",
              "      <td>201</td>\n",
              "      <td>229</td>\n",
              "      <td>1</td>\n",
              "    </tr>\n",
              "  </tbody>\n",
              "</table>\n",
              "<p>4300 rows × 3073 columns</p>\n",
              "</div>"
            ],
            "text/plain": [
              "        0    1    2    3    4    5  ...  3067  3068  3069  3070  3071  labels\n",
              "0     123  167  190  120  167  191  ...   219   215   242   233   219       0\n",
              "1       5    5    5    7   12   11  ...   108   124    39    85    92       0\n",
              "2      20   14   18   32   22   25  ...   203   207   198   202   202       0\n",
              "3      30   33   44   31   32   42  ...    68   110    78   109   151       0\n",
              "4      63   90  126   49   71  113  ...    33    58    14    15    34       0\n",
              "...   ...  ...  ...  ...  ...  ...  ...   ...   ...   ...   ...   ...     ...\n",
              "4295  227  200  182  212  184  167  ...   213   255   185   218   254       1\n",
              "4296  102   93  225  125  115  239  ...   237   248   248   237   255       1\n",
              "4297  126  132  140  135  141  147  ...    17    17    18    23    21       1\n",
              "4298  200  211  219  190  202  210  ...    26    31    35    38    43       1\n",
              "4299   17   61  159   10   31   59  ...   197   224   154   201   229       1\n",
              "\n",
              "[4300 rows x 3073 columns]"
            ]
          },
          "metadata": {
            "tags": []
          },
          "execution_count": 7
        }
      ]
    },
    {
      "cell_type": "code",
      "metadata": {
        "colab": {
          "base_uri": "https://localhost:8080/",
          "height": 422
        },
        "id": "qrSIrfm9ZyaD",
        "outputId": "3ff31c49-67ef-4775-c9c2-8a0614b2e2f0"
      },
      "source": [
        "df.sample(frac=1)"
      ],
      "execution_count": 8,
      "outputs": [
        {
          "output_type": "execute_result",
          "data": {
            "text/html": [
              "<div>\n",
              "<style scoped>\n",
              "    .dataframe tbody tr th:only-of-type {\n",
              "        vertical-align: middle;\n",
              "    }\n",
              "\n",
              "    .dataframe tbody tr th {\n",
              "        vertical-align: top;\n",
              "    }\n",
              "\n",
              "    .dataframe thead th {\n",
              "        text-align: right;\n",
              "    }\n",
              "</style>\n",
              "<table border=\"1\" class=\"dataframe\">\n",
              "  <thead>\n",
              "    <tr style=\"text-align: right;\">\n",
              "      <th></th>\n",
              "      <th>0</th>\n",
              "      <th>1</th>\n",
              "      <th>2</th>\n",
              "      <th>3</th>\n",
              "      <th>4</th>\n",
              "      <th>5</th>\n",
              "      <th>6</th>\n",
              "      <th>7</th>\n",
              "      <th>8</th>\n",
              "      <th>9</th>\n",
              "      <th>10</th>\n",
              "      <th>11</th>\n",
              "      <th>12</th>\n",
              "      <th>13</th>\n",
              "      <th>14</th>\n",
              "      <th>15</th>\n",
              "      <th>16</th>\n",
              "      <th>17</th>\n",
              "      <th>18</th>\n",
              "      <th>19</th>\n",
              "      <th>20</th>\n",
              "      <th>21</th>\n",
              "      <th>22</th>\n",
              "      <th>23</th>\n",
              "      <th>24</th>\n",
              "      <th>25</th>\n",
              "      <th>26</th>\n",
              "      <th>27</th>\n",
              "      <th>28</th>\n",
              "      <th>29</th>\n",
              "      <th>30</th>\n",
              "      <th>31</th>\n",
              "      <th>32</th>\n",
              "      <th>33</th>\n",
              "      <th>34</th>\n",
              "      <th>35</th>\n",
              "      <th>36</th>\n",
              "      <th>37</th>\n",
              "      <th>38</th>\n",
              "      <th>39</th>\n",
              "      <th>...</th>\n",
              "      <th>3033</th>\n",
              "      <th>3034</th>\n",
              "      <th>3035</th>\n",
              "      <th>3036</th>\n",
              "      <th>3037</th>\n",
              "      <th>3038</th>\n",
              "      <th>3039</th>\n",
              "      <th>3040</th>\n",
              "      <th>3041</th>\n",
              "      <th>3042</th>\n",
              "      <th>3043</th>\n",
              "      <th>3044</th>\n",
              "      <th>3045</th>\n",
              "      <th>3046</th>\n",
              "      <th>3047</th>\n",
              "      <th>3048</th>\n",
              "      <th>3049</th>\n",
              "      <th>3050</th>\n",
              "      <th>3051</th>\n",
              "      <th>3052</th>\n",
              "      <th>3053</th>\n",
              "      <th>3054</th>\n",
              "      <th>3055</th>\n",
              "      <th>3056</th>\n",
              "      <th>3057</th>\n",
              "      <th>3058</th>\n",
              "      <th>3059</th>\n",
              "      <th>3060</th>\n",
              "      <th>3061</th>\n",
              "      <th>3062</th>\n",
              "      <th>3063</th>\n",
              "      <th>3064</th>\n",
              "      <th>3065</th>\n",
              "      <th>3066</th>\n",
              "      <th>3067</th>\n",
              "      <th>3068</th>\n",
              "      <th>3069</th>\n",
              "      <th>3070</th>\n",
              "      <th>3071</th>\n",
              "      <th>labels</th>\n",
              "    </tr>\n",
              "  </thead>\n",
              "  <tbody>\n",
              "    <tr>\n",
              "      <th>767</th>\n",
              "      <td>6</td>\n",
              "      <td>12</td>\n",
              "      <td>19</td>\n",
              "      <td>12</td>\n",
              "      <td>18</td>\n",
              "      <td>23</td>\n",
              "      <td>19</td>\n",
              "      <td>27</td>\n",
              "      <td>31</td>\n",
              "      <td>15</td>\n",
              "      <td>24</td>\n",
              "      <td>37</td>\n",
              "      <td>22</td>\n",
              "      <td>37</td>\n",
              "      <td>54</td>\n",
              "      <td>23</td>\n",
              "      <td>34</td>\n",
              "      <td>58</td>\n",
              "      <td>28</td>\n",
              "      <td>40</td>\n",
              "      <td>63</td>\n",
              "      <td>22</td>\n",
              "      <td>35</td>\n",
              "      <td>60</td>\n",
              "      <td>34</td>\n",
              "      <td>48</td>\n",
              "      <td>77</td>\n",
              "      <td>33</td>\n",
              "      <td>50</td>\n",
              "      <td>79</td>\n",
              "      <td>36</td>\n",
              "      <td>55</td>\n",
              "      <td>87</td>\n",
              "      <td>34</td>\n",
              "      <td>54</td>\n",
              "      <td>93</td>\n",
              "      <td>56</td>\n",
              "      <td>75</td>\n",
              "      <td>122</td>\n",
              "      <td>68</td>\n",
              "      <td>...</td>\n",
              "      <td>78</td>\n",
              "      <td>102</td>\n",
              "      <td>147</td>\n",
              "      <td>61</td>\n",
              "      <td>84</td>\n",
              "      <td>136</td>\n",
              "      <td>64</td>\n",
              "      <td>95</td>\n",
              "      <td>148</td>\n",
              "      <td>87</td>\n",
              "      <td>120</td>\n",
              "      <td>174</td>\n",
              "      <td>76</td>\n",
              "      <td>111</td>\n",
              "      <td>155</td>\n",
              "      <td>83</td>\n",
              "      <td>117</td>\n",
              "      <td>153</td>\n",
              "      <td>85</td>\n",
              "      <td>115</td>\n",
              "      <td>145</td>\n",
              "      <td>101</td>\n",
              "      <td>130</td>\n",
              "      <td>152</td>\n",
              "      <td>158</td>\n",
              "      <td>184</td>\n",
              "      <td>200</td>\n",
              "      <td>157</td>\n",
              "      <td>178</td>\n",
              "      <td>193</td>\n",
              "      <td>171</td>\n",
              "      <td>188</td>\n",
              "      <td>201</td>\n",
              "      <td>170</td>\n",
              "      <td>186</td>\n",
              "      <td>199</td>\n",
              "      <td>169</td>\n",
              "      <td>185</td>\n",
              "      <td>197</td>\n",
              "      <td>0</td>\n",
              "    </tr>\n",
              "    <tr>\n",
              "      <th>1198</th>\n",
              "      <td>21</td>\n",
              "      <td>39</td>\n",
              "      <td>66</td>\n",
              "      <td>19</td>\n",
              "      <td>39</td>\n",
              "      <td>65</td>\n",
              "      <td>18</td>\n",
              "      <td>40</td>\n",
              "      <td>62</td>\n",
              "      <td>20</td>\n",
              "      <td>38</td>\n",
              "      <td>60</td>\n",
              "      <td>24</td>\n",
              "      <td>41</td>\n",
              "      <td>60</td>\n",
              "      <td>26</td>\n",
              "      <td>45</td>\n",
              "      <td>62</td>\n",
              "      <td>25</td>\n",
              "      <td>45</td>\n",
              "      <td>60</td>\n",
              "      <td>37</td>\n",
              "      <td>56</td>\n",
              "      <td>71</td>\n",
              "      <td>42</td>\n",
              "      <td>58</td>\n",
              "      <td>74</td>\n",
              "      <td>41</td>\n",
              "      <td>55</td>\n",
              "      <td>78</td>\n",
              "      <td>49</td>\n",
              "      <td>65</td>\n",
              "      <td>89</td>\n",
              "      <td>49</td>\n",
              "      <td>69</td>\n",
              "      <td>98</td>\n",
              "      <td>59</td>\n",
              "      <td>82</td>\n",
              "      <td>110</td>\n",
              "      <td>74</td>\n",
              "      <td>...</td>\n",
              "      <td>164</td>\n",
              "      <td>177</td>\n",
              "      <td>204</td>\n",
              "      <td>170</td>\n",
              "      <td>178</td>\n",
              "      <td>200</td>\n",
              "      <td>200</td>\n",
              "      <td>206</td>\n",
              "      <td>214</td>\n",
              "      <td>223</td>\n",
              "      <td>225</td>\n",
              "      <td>225</td>\n",
              "      <td>233</td>\n",
              "      <td>231</td>\n",
              "      <td>223</td>\n",
              "      <td>238</td>\n",
              "      <td>233</td>\n",
              "      <td>222</td>\n",
              "      <td>237</td>\n",
              "      <td>236</td>\n",
              "      <td>218</td>\n",
              "      <td>238</td>\n",
              "      <td>234</td>\n",
              "      <td>222</td>\n",
              "      <td>233</td>\n",
              "      <td>234</td>\n",
              "      <td>225</td>\n",
              "      <td>228</td>\n",
              "      <td>230</td>\n",
              "      <td>224</td>\n",
              "      <td>230</td>\n",
              "      <td>231</td>\n",
              "      <td>227</td>\n",
              "      <td>238</td>\n",
              "      <td>236</td>\n",
              "      <td>235</td>\n",
              "      <td>241</td>\n",
              "      <td>237</td>\n",
              "      <td>236</td>\n",
              "      <td>0</td>\n",
              "    </tr>\n",
              "    <tr>\n",
              "      <th>3326</th>\n",
              "      <td>29</td>\n",
              "      <td>31</td>\n",
              "      <td>32</td>\n",
              "      <td>17</td>\n",
              "      <td>18</td>\n",
              "      <td>19</td>\n",
              "      <td>12</td>\n",
              "      <td>13</td>\n",
              "      <td>14</td>\n",
              "      <td>12</td>\n",
              "      <td>12</td>\n",
              "      <td>12</td>\n",
              "      <td>15</td>\n",
              "      <td>12</td>\n",
              "      <td>13</td>\n",
              "      <td>20</td>\n",
              "      <td>15</td>\n",
              "      <td>17</td>\n",
              "      <td>17</td>\n",
              "      <td>14</td>\n",
              "      <td>17</td>\n",
              "      <td>19</td>\n",
              "      <td>21</td>\n",
              "      <td>22</td>\n",
              "      <td>22</td>\n",
              "      <td>22</td>\n",
              "      <td>22</td>\n",
              "      <td>35</td>\n",
              "      <td>35</td>\n",
              "      <td>35</td>\n",
              "      <td>47</td>\n",
              "      <td>45</td>\n",
              "      <td>44</td>\n",
              "      <td>51</td>\n",
              "      <td>50</td>\n",
              "      <td>51</td>\n",
              "      <td>38</td>\n",
              "      <td>40</td>\n",
              "      <td>40</td>\n",
              "      <td>40</td>\n",
              "      <td>...</td>\n",
              "      <td>240</td>\n",
              "      <td>242</td>\n",
              "      <td>237</td>\n",
              "      <td>254</td>\n",
              "      <td>255</td>\n",
              "      <td>251</td>\n",
              "      <td>245</td>\n",
              "      <td>244</td>\n",
              "      <td>240</td>\n",
              "      <td>231</td>\n",
              "      <td>228</td>\n",
              "      <td>223</td>\n",
              "      <td>228</td>\n",
              "      <td>226</td>\n",
              "      <td>218</td>\n",
              "      <td>228</td>\n",
              "      <td>229</td>\n",
              "      <td>219</td>\n",
              "      <td>236</td>\n",
              "      <td>240</td>\n",
              "      <td>229</td>\n",
              "      <td>229</td>\n",
              "      <td>228</td>\n",
              "      <td>219</td>\n",
              "      <td>217</td>\n",
              "      <td>218</td>\n",
              "      <td>218</td>\n",
              "      <td>179</td>\n",
              "      <td>192</td>\n",
              "      <td>200</td>\n",
              "      <td>173</td>\n",
              "      <td>193</td>\n",
              "      <td>214</td>\n",
              "      <td>168</td>\n",
              "      <td>191</td>\n",
              "      <td>223</td>\n",
              "      <td>176</td>\n",
              "      <td>198</td>\n",
              "      <td>238</td>\n",
              "      <td>1</td>\n",
              "    </tr>\n",
              "    <tr>\n",
              "      <th>676</th>\n",
              "      <td>30</td>\n",
              "      <td>38</td>\n",
              "      <td>55</td>\n",
              "      <td>39</td>\n",
              "      <td>45</td>\n",
              "      <td>68</td>\n",
              "      <td>51</td>\n",
              "      <td>61</td>\n",
              "      <td>75</td>\n",
              "      <td>69</td>\n",
              "      <td>75</td>\n",
              "      <td>88</td>\n",
              "      <td>91</td>\n",
              "      <td>96</td>\n",
              "      <td>104</td>\n",
              "      <td>103</td>\n",
              "      <td>106</td>\n",
              "      <td>113</td>\n",
              "      <td>102</td>\n",
              "      <td>105</td>\n",
              "      <td>114</td>\n",
              "      <td>95</td>\n",
              "      <td>98</td>\n",
              "      <td>106</td>\n",
              "      <td>88</td>\n",
              "      <td>91</td>\n",
              "      <td>99</td>\n",
              "      <td>93</td>\n",
              "      <td>95</td>\n",
              "      <td>104</td>\n",
              "      <td>83</td>\n",
              "      <td>89</td>\n",
              "      <td>96</td>\n",
              "      <td>77</td>\n",
              "      <td>84</td>\n",
              "      <td>97</td>\n",
              "      <td>76</td>\n",
              "      <td>85</td>\n",
              "      <td>94</td>\n",
              "      <td>81</td>\n",
              "      <td>...</td>\n",
              "      <td>206</td>\n",
              "      <td>210</td>\n",
              "      <td>229</td>\n",
              "      <td>200</td>\n",
              "      <td>197</td>\n",
              "      <td>227</td>\n",
              "      <td>186</td>\n",
              "      <td>178</td>\n",
              "      <td>212</td>\n",
              "      <td>158</td>\n",
              "      <td>141</td>\n",
              "      <td>189</td>\n",
              "      <td>146</td>\n",
              "      <td>123</td>\n",
              "      <td>173</td>\n",
              "      <td>148</td>\n",
              "      <td>118</td>\n",
              "      <td>174</td>\n",
              "      <td>164</td>\n",
              "      <td>126</td>\n",
              "      <td>181</td>\n",
              "      <td>177</td>\n",
              "      <td>140</td>\n",
              "      <td>190</td>\n",
              "      <td>187</td>\n",
              "      <td>146</td>\n",
              "      <td>190</td>\n",
              "      <td>181</td>\n",
              "      <td>149</td>\n",
              "      <td>181</td>\n",
              "      <td>170</td>\n",
              "      <td>140</td>\n",
              "      <td>169</td>\n",
              "      <td>148</td>\n",
              "      <td>117</td>\n",
              "      <td>149</td>\n",
              "      <td>122</td>\n",
              "      <td>94</td>\n",
              "      <td>149</td>\n",
              "      <td>0</td>\n",
              "    </tr>\n",
              "    <tr>\n",
              "      <th>2152</th>\n",
              "      <td>35</td>\n",
              "      <td>34</td>\n",
              "      <td>56</td>\n",
              "      <td>55</td>\n",
              "      <td>55</td>\n",
              "      <td>79</td>\n",
              "      <td>55</td>\n",
              "      <td>55</td>\n",
              "      <td>85</td>\n",
              "      <td>40</td>\n",
              "      <td>40</td>\n",
              "      <td>67</td>\n",
              "      <td>53</td>\n",
              "      <td>54</td>\n",
              "      <td>75</td>\n",
              "      <td>48</td>\n",
              "      <td>49</td>\n",
              "      <td>70</td>\n",
              "      <td>48</td>\n",
              "      <td>48</td>\n",
              "      <td>71</td>\n",
              "      <td>43</td>\n",
              "      <td>44</td>\n",
              "      <td>65</td>\n",
              "      <td>33</td>\n",
              "      <td>36</td>\n",
              "      <td>54</td>\n",
              "      <td>41</td>\n",
              "      <td>45</td>\n",
              "      <td>63</td>\n",
              "      <td>31</td>\n",
              "      <td>35</td>\n",
              "      <td>52</td>\n",
              "      <td>56</td>\n",
              "      <td>61</td>\n",
              "      <td>76</td>\n",
              "      <td>53</td>\n",
              "      <td>56</td>\n",
              "      <td>70</td>\n",
              "      <td>40</td>\n",
              "      <td>...</td>\n",
              "      <td>35</td>\n",
              "      <td>28</td>\n",
              "      <td>31</td>\n",
              "      <td>32</td>\n",
              "      <td>27</td>\n",
              "      <td>23</td>\n",
              "      <td>37</td>\n",
              "      <td>30</td>\n",
              "      <td>20</td>\n",
              "      <td>32</td>\n",
              "      <td>30</td>\n",
              "      <td>33</td>\n",
              "      <td>57</td>\n",
              "      <td>64</td>\n",
              "      <td>80</td>\n",
              "      <td>101</td>\n",
              "      <td>111</td>\n",
              "      <td>148</td>\n",
              "      <td>101</td>\n",
              "      <td>106</td>\n",
              "      <td>155</td>\n",
              "      <td>104</td>\n",
              "      <td>109</td>\n",
              "      <td>163</td>\n",
              "      <td>111</td>\n",
              "      <td>125</td>\n",
              "      <td>173</td>\n",
              "      <td>132</td>\n",
              "      <td>149</td>\n",
              "      <td>184</td>\n",
              "      <td>153</td>\n",
              "      <td>167</td>\n",
              "      <td>186</td>\n",
              "      <td>175</td>\n",
              "      <td>183</td>\n",
              "      <td>190</td>\n",
              "      <td>213</td>\n",
              "      <td>223</td>\n",
              "      <td>211</td>\n",
              "      <td>1</td>\n",
              "    </tr>\n",
              "    <tr>\n",
              "      <th>...</th>\n",
              "      <td>...</td>\n",
              "      <td>...</td>\n",
              "      <td>...</td>\n",
              "      <td>...</td>\n",
              "      <td>...</td>\n",
              "      <td>...</td>\n",
              "      <td>...</td>\n",
              "      <td>...</td>\n",
              "      <td>...</td>\n",
              "      <td>...</td>\n",
              "      <td>...</td>\n",
              "      <td>...</td>\n",
              "      <td>...</td>\n",
              "      <td>...</td>\n",
              "      <td>...</td>\n",
              "      <td>...</td>\n",
              "      <td>...</td>\n",
              "      <td>...</td>\n",
              "      <td>...</td>\n",
              "      <td>...</td>\n",
              "      <td>...</td>\n",
              "      <td>...</td>\n",
              "      <td>...</td>\n",
              "      <td>...</td>\n",
              "      <td>...</td>\n",
              "      <td>...</td>\n",
              "      <td>...</td>\n",
              "      <td>...</td>\n",
              "      <td>...</td>\n",
              "      <td>...</td>\n",
              "      <td>...</td>\n",
              "      <td>...</td>\n",
              "      <td>...</td>\n",
              "      <td>...</td>\n",
              "      <td>...</td>\n",
              "      <td>...</td>\n",
              "      <td>...</td>\n",
              "      <td>...</td>\n",
              "      <td>...</td>\n",
              "      <td>...</td>\n",
              "      <td>...</td>\n",
              "      <td>...</td>\n",
              "      <td>...</td>\n",
              "      <td>...</td>\n",
              "      <td>...</td>\n",
              "      <td>...</td>\n",
              "      <td>...</td>\n",
              "      <td>...</td>\n",
              "      <td>...</td>\n",
              "      <td>...</td>\n",
              "      <td>...</td>\n",
              "      <td>...</td>\n",
              "      <td>...</td>\n",
              "      <td>...</td>\n",
              "      <td>...</td>\n",
              "      <td>...</td>\n",
              "      <td>...</td>\n",
              "      <td>...</td>\n",
              "      <td>...</td>\n",
              "      <td>...</td>\n",
              "      <td>...</td>\n",
              "      <td>...</td>\n",
              "      <td>...</td>\n",
              "      <td>...</td>\n",
              "      <td>...</td>\n",
              "      <td>...</td>\n",
              "      <td>...</td>\n",
              "      <td>...</td>\n",
              "      <td>...</td>\n",
              "      <td>...</td>\n",
              "      <td>...</td>\n",
              "      <td>...</td>\n",
              "      <td>...</td>\n",
              "      <td>...</td>\n",
              "      <td>...</td>\n",
              "      <td>...</td>\n",
              "      <td>...</td>\n",
              "      <td>...</td>\n",
              "      <td>...</td>\n",
              "      <td>...</td>\n",
              "      <td>...</td>\n",
              "    </tr>\n",
              "    <tr>\n",
              "      <th>670</th>\n",
              "      <td>71</td>\n",
              "      <td>77</td>\n",
              "      <td>84</td>\n",
              "      <td>42</td>\n",
              "      <td>48</td>\n",
              "      <td>47</td>\n",
              "      <td>25</td>\n",
              "      <td>31</td>\n",
              "      <td>26</td>\n",
              "      <td>18</td>\n",
              "      <td>25</td>\n",
              "      <td>20</td>\n",
              "      <td>22</td>\n",
              "      <td>23</td>\n",
              "      <td>22</td>\n",
              "      <td>23</td>\n",
              "      <td>22</td>\n",
              "      <td>22</td>\n",
              "      <td>33</td>\n",
              "      <td>34</td>\n",
              "      <td>32</td>\n",
              "      <td>47</td>\n",
              "      <td>48</td>\n",
              "      <td>46</td>\n",
              "      <td>48</td>\n",
              "      <td>45</td>\n",
              "      <td>44</td>\n",
              "      <td>48</td>\n",
              "      <td>42</td>\n",
              "      <td>42</td>\n",
              "      <td>52</td>\n",
              "      <td>47</td>\n",
              "      <td>48</td>\n",
              "      <td>50</td>\n",
              "      <td>44</td>\n",
              "      <td>45</td>\n",
              "      <td>48</td>\n",
              "      <td>44</td>\n",
              "      <td>44</td>\n",
              "      <td>59</td>\n",
              "      <td>...</td>\n",
              "      <td>55</td>\n",
              "      <td>77</td>\n",
              "      <td>117</td>\n",
              "      <td>48</td>\n",
              "      <td>67</td>\n",
              "      <td>104</td>\n",
              "      <td>44</td>\n",
              "      <td>62</td>\n",
              "      <td>92</td>\n",
              "      <td>39</td>\n",
              "      <td>51</td>\n",
              "      <td>78</td>\n",
              "      <td>50</td>\n",
              "      <td>61</td>\n",
              "      <td>79</td>\n",
              "      <td>133</td>\n",
              "      <td>143</td>\n",
              "      <td>159</td>\n",
              "      <td>182</td>\n",
              "      <td>186</td>\n",
              "      <td>201</td>\n",
              "      <td>171</td>\n",
              "      <td>173</td>\n",
              "      <td>184</td>\n",
              "      <td>175</td>\n",
              "      <td>179</td>\n",
              "      <td>186</td>\n",
              "      <td>185</td>\n",
              "      <td>189</td>\n",
              "      <td>194</td>\n",
              "      <td>177</td>\n",
              "      <td>184</td>\n",
              "      <td>190</td>\n",
              "      <td>172</td>\n",
              "      <td>182</td>\n",
              "      <td>189</td>\n",
              "      <td>180</td>\n",
              "      <td>183</td>\n",
              "      <td>191</td>\n",
              "      <td>0</td>\n",
              "    </tr>\n",
              "    <tr>\n",
              "      <th>1824</th>\n",
              "      <td>14</td>\n",
              "      <td>1</td>\n",
              "      <td>2</td>\n",
              "      <td>15</td>\n",
              "      <td>3</td>\n",
              "      <td>3</td>\n",
              "      <td>16</td>\n",
              "      <td>4</td>\n",
              "      <td>7</td>\n",
              "      <td>17</td>\n",
              "      <td>3</td>\n",
              "      <td>10</td>\n",
              "      <td>12</td>\n",
              "      <td>2</td>\n",
              "      <td>6</td>\n",
              "      <td>18</td>\n",
              "      <td>1</td>\n",
              "      <td>8</td>\n",
              "      <td>17</td>\n",
              "      <td>2</td>\n",
              "      <td>11</td>\n",
              "      <td>19</td>\n",
              "      <td>4</td>\n",
              "      <td>15</td>\n",
              "      <td>28</td>\n",
              "      <td>13</td>\n",
              "      <td>23</td>\n",
              "      <td>24</td>\n",
              "      <td>11</td>\n",
              "      <td>24</td>\n",
              "      <td>12</td>\n",
              "      <td>4</td>\n",
              "      <td>17</td>\n",
              "      <td>15</td>\n",
              "      <td>9</td>\n",
              "      <td>24</td>\n",
              "      <td>21</td>\n",
              "      <td>11</td>\n",
              "      <td>29</td>\n",
              "      <td>23</td>\n",
              "      <td>...</td>\n",
              "      <td>124</td>\n",
              "      <td>140</td>\n",
              "      <td>174</td>\n",
              "      <td>116</td>\n",
              "      <td>129</td>\n",
              "      <td>162</td>\n",
              "      <td>110</td>\n",
              "      <td>121</td>\n",
              "      <td>156</td>\n",
              "      <td>106</td>\n",
              "      <td>111</td>\n",
              "      <td>150</td>\n",
              "      <td>79</td>\n",
              "      <td>80</td>\n",
              "      <td>118</td>\n",
              "      <td>69</td>\n",
              "      <td>58</td>\n",
              "      <td>89</td>\n",
              "      <td>33</td>\n",
              "      <td>21</td>\n",
              "      <td>36</td>\n",
              "      <td>37</td>\n",
              "      <td>11</td>\n",
              "      <td>22</td>\n",
              "      <td>51</td>\n",
              "      <td>20</td>\n",
              "      <td>21</td>\n",
              "      <td>53</td>\n",
              "      <td>21</td>\n",
              "      <td>16</td>\n",
              "      <td>50</td>\n",
              "      <td>21</td>\n",
              "      <td>21</td>\n",
              "      <td>50</td>\n",
              "      <td>21</td>\n",
              "      <td>25</td>\n",
              "      <td>48</td>\n",
              "      <td>22</td>\n",
              "      <td>22</td>\n",
              "      <td>0</td>\n",
              "    </tr>\n",
              "    <tr>\n",
              "      <th>423</th>\n",
              "      <td>82</td>\n",
              "      <td>80</td>\n",
              "      <td>89</td>\n",
              "      <td>74</td>\n",
              "      <td>76</td>\n",
              "      <td>80</td>\n",
              "      <td>75</td>\n",
              "      <td>77</td>\n",
              "      <td>81</td>\n",
              "      <td>65</td>\n",
              "      <td>68</td>\n",
              "      <td>73</td>\n",
              "      <td>62</td>\n",
              "      <td>67</td>\n",
              "      <td>70</td>\n",
              "      <td>69</td>\n",
              "      <td>75</td>\n",
              "      <td>79</td>\n",
              "      <td>78</td>\n",
              "      <td>80</td>\n",
              "      <td>90</td>\n",
              "      <td>86</td>\n",
              "      <td>92</td>\n",
              "      <td>102</td>\n",
              "      <td>97</td>\n",
              "      <td>105</td>\n",
              "      <td>117</td>\n",
              "      <td>93</td>\n",
              "      <td>101</td>\n",
              "      <td>115</td>\n",
              "      <td>72</td>\n",
              "      <td>81</td>\n",
              "      <td>96</td>\n",
              "      <td>61</td>\n",
              "      <td>73</td>\n",
              "      <td>90</td>\n",
              "      <td>69</td>\n",
              "      <td>83</td>\n",
              "      <td>101</td>\n",
              "      <td>69</td>\n",
              "      <td>...</td>\n",
              "      <td>14</td>\n",
              "      <td>31</td>\n",
              "      <td>51</td>\n",
              "      <td>5</td>\n",
              "      <td>12</td>\n",
              "      <td>30</td>\n",
              "      <td>12</td>\n",
              "      <td>13</td>\n",
              "      <td>19</td>\n",
              "      <td>12</td>\n",
              "      <td>11</td>\n",
              "      <td>11</td>\n",
              "      <td>10</td>\n",
              "      <td>10</td>\n",
              "      <td>16</td>\n",
              "      <td>10</td>\n",
              "      <td>13</td>\n",
              "      <td>17</td>\n",
              "      <td>14</td>\n",
              "      <td>20</td>\n",
              "      <td>20</td>\n",
              "      <td>28</td>\n",
              "      <td>29</td>\n",
              "      <td>31</td>\n",
              "      <td>24</td>\n",
              "      <td>24</td>\n",
              "      <td>30</td>\n",
              "      <td>29</td>\n",
              "      <td>31</td>\n",
              "      <td>33</td>\n",
              "      <td>14</td>\n",
              "      <td>17</td>\n",
              "      <td>21</td>\n",
              "      <td>29</td>\n",
              "      <td>32</td>\n",
              "      <td>37</td>\n",
              "      <td>26</td>\n",
              "      <td>28</td>\n",
              "      <td>36</td>\n",
              "      <td>0</td>\n",
              "    </tr>\n",
              "    <tr>\n",
              "      <th>1452</th>\n",
              "      <td>21</td>\n",
              "      <td>17</td>\n",
              "      <td>23</td>\n",
              "      <td>22</td>\n",
              "      <td>18</td>\n",
              "      <td>24</td>\n",
              "      <td>18</td>\n",
              "      <td>16</td>\n",
              "      <td>22</td>\n",
              "      <td>21</td>\n",
              "      <td>19</td>\n",
              "      <td>24</td>\n",
              "      <td>25</td>\n",
              "      <td>24</td>\n",
              "      <td>29</td>\n",
              "      <td>27</td>\n",
              "      <td>27</td>\n",
              "      <td>32</td>\n",
              "      <td>26</td>\n",
              "      <td>30</td>\n",
              "      <td>34</td>\n",
              "      <td>29</td>\n",
              "      <td>32</td>\n",
              "      <td>39</td>\n",
              "      <td>31</td>\n",
              "      <td>33</td>\n",
              "      <td>40</td>\n",
              "      <td>34</td>\n",
              "      <td>34</td>\n",
              "      <td>45</td>\n",
              "      <td>33</td>\n",
              "      <td>39</td>\n",
              "      <td>58</td>\n",
              "      <td>42</td>\n",
              "      <td>51</td>\n",
              "      <td>72</td>\n",
              "      <td>54</td>\n",
              "      <td>60</td>\n",
              "      <td>80</td>\n",
              "      <td>56</td>\n",
              "      <td>...</td>\n",
              "      <td>138</td>\n",
              "      <td>168</td>\n",
              "      <td>196</td>\n",
              "      <td>151</td>\n",
              "      <td>176</td>\n",
              "      <td>199</td>\n",
              "      <td>145</td>\n",
              "      <td>167</td>\n",
              "      <td>184</td>\n",
              "      <td>194</td>\n",
              "      <td>205</td>\n",
              "      <td>215</td>\n",
              "      <td>210</td>\n",
              "      <td>214</td>\n",
              "      <td>211</td>\n",
              "      <td>223</td>\n",
              "      <td>221</td>\n",
              "      <td>220</td>\n",
              "      <td>228</td>\n",
              "      <td>223</td>\n",
              "      <td>221</td>\n",
              "      <td>225</td>\n",
              "      <td>223</td>\n",
              "      <td>225</td>\n",
              "      <td>228</td>\n",
              "      <td>227</td>\n",
              "      <td>227</td>\n",
              "      <td>220</td>\n",
              "      <td>212</td>\n",
              "      <td>212</td>\n",
              "      <td>151</td>\n",
              "      <td>142</td>\n",
              "      <td>138</td>\n",
              "      <td>207</td>\n",
              "      <td>198</td>\n",
              "      <td>189</td>\n",
              "      <td>225</td>\n",
              "      <td>218</td>\n",
              "      <td>209</td>\n",
              "      <td>0</td>\n",
              "    </tr>\n",
              "    <tr>\n",
              "      <th>3442</th>\n",
              "      <td>14</td>\n",
              "      <td>13</td>\n",
              "      <td>29</td>\n",
              "      <td>25</td>\n",
              "      <td>24</td>\n",
              "      <td>40</td>\n",
              "      <td>1</td>\n",
              "      <td>1</td>\n",
              "      <td>17</td>\n",
              "      <td>9</td>\n",
              "      <td>8</td>\n",
              "      <td>24</td>\n",
              "      <td>3</td>\n",
              "      <td>3</td>\n",
              "      <td>18</td>\n",
              "      <td>26</td>\n",
              "      <td>23</td>\n",
              "      <td>36</td>\n",
              "      <td>8</td>\n",
              "      <td>6</td>\n",
              "      <td>12</td>\n",
              "      <td>1</td>\n",
              "      <td>4</td>\n",
              "      <td>8</td>\n",
              "      <td>3</td>\n",
              "      <td>3</td>\n",
              "      <td>10</td>\n",
              "      <td>9</td>\n",
              "      <td>13</td>\n",
              "      <td>22</td>\n",
              "      <td>27</td>\n",
              "      <td>31</td>\n",
              "      <td>49</td>\n",
              "      <td>31</td>\n",
              "      <td>37</td>\n",
              "      <td>56</td>\n",
              "      <td>37</td>\n",
              "      <td>48</td>\n",
              "      <td>74</td>\n",
              "      <td>40</td>\n",
              "      <td>...</td>\n",
              "      <td>137</td>\n",
              "      <td>94</td>\n",
              "      <td>46</td>\n",
              "      <td>118</td>\n",
              "      <td>79</td>\n",
              "      <td>32</td>\n",
              "      <td>112</td>\n",
              "      <td>81</td>\n",
              "      <td>53</td>\n",
              "      <td>130</td>\n",
              "      <td>106</td>\n",
              "      <td>104</td>\n",
              "      <td>6</td>\n",
              "      <td>6</td>\n",
              "      <td>1</td>\n",
              "      <td>0</td>\n",
              "      <td>1</td>\n",
              "      <td>1</td>\n",
              "      <td>4</td>\n",
              "      <td>2</td>\n",
              "      <td>3</td>\n",
              "      <td>5</td>\n",
              "      <td>5</td>\n",
              "      <td>5</td>\n",
              "      <td>5</td>\n",
              "      <td>5</td>\n",
              "      <td>5</td>\n",
              "      <td>5</td>\n",
              "      <td>5</td>\n",
              "      <td>5</td>\n",
              "      <td>3</td>\n",
              "      <td>4</td>\n",
              "      <td>2</td>\n",
              "      <td>4</td>\n",
              "      <td>1</td>\n",
              "      <td>4</td>\n",
              "      <td>19</td>\n",
              "      <td>15</td>\n",
              "      <td>27</td>\n",
              "      <td>1</td>\n",
              "    </tr>\n",
              "  </tbody>\n",
              "</table>\n",
              "<p>4300 rows × 3073 columns</p>\n",
              "</div>"
            ],
            "text/plain": [
              "       0   1   2   3   4   5   6  ...  3066  3067  3068  3069  3070  3071  labels\n",
              "767    6  12  19  12  18  23  19  ...   170   186   199   169   185   197       0\n",
              "1198  21  39  66  19  39  65  18  ...   238   236   235   241   237   236       0\n",
              "3326  29  31  32  17  18  19  12  ...   168   191   223   176   198   238       1\n",
              "676   30  38  55  39  45  68  51  ...   148   117   149   122    94   149       0\n",
              "2152  35  34  56  55  55  79  55  ...   175   183   190   213   223   211       1\n",
              "...   ..  ..  ..  ..  ..  ..  ..  ...   ...   ...   ...   ...   ...   ...     ...\n",
              "670   71  77  84  42  48  47  25  ...   172   182   189   180   183   191       0\n",
              "1824  14   1   2  15   3   3  16  ...    50    21    25    48    22    22       0\n",
              "423   82  80  89  74  76  80  75  ...    29    32    37    26    28    36       0\n",
              "1452  21  17  23  22  18  24  18  ...   207   198   189   225   218   209       0\n",
              "3442  14  13  29  25  24  40   1  ...     4     1     4    19    15    27       1\n",
              "\n",
              "[4300 rows x 3073 columns]"
            ]
          },
          "metadata": {
            "tags": []
          },
          "execution_count": 8
        }
      ]
    },
    {
      "cell_type": "markdown",
      "metadata": {
        "id": "trp6WckXZs_J"
      },
      "source": [
        "Analyzing Data"
      ]
    },
    {
      "cell_type": "code",
      "metadata": {
        "colab": {
          "base_uri": "https://localhost:8080/",
          "height": 333
        },
        "id": "SXhLCIB7ZvKL",
        "outputId": "b90974c1-ce02-46fa-ce23-bf78ba4e2d8b"
      },
      "source": [
        "df.describe()"
      ],
      "execution_count": 10,
      "outputs": [
        {
          "output_type": "execute_result",
          "data": {
            "text/html": [
              "<div>\n",
              "<style scoped>\n",
              "    .dataframe tbody tr th:only-of-type {\n",
              "        vertical-align: middle;\n",
              "    }\n",
              "\n",
              "    .dataframe tbody tr th {\n",
              "        vertical-align: top;\n",
              "    }\n",
              "\n",
              "    .dataframe thead th {\n",
              "        text-align: right;\n",
              "    }\n",
              "</style>\n",
              "<table border=\"1\" class=\"dataframe\">\n",
              "  <thead>\n",
              "    <tr style=\"text-align: right;\">\n",
              "      <th></th>\n",
              "      <th>0</th>\n",
              "      <th>1</th>\n",
              "      <th>2</th>\n",
              "      <th>3</th>\n",
              "      <th>4</th>\n",
              "      <th>5</th>\n",
              "      <th>6</th>\n",
              "      <th>7</th>\n",
              "      <th>8</th>\n",
              "      <th>9</th>\n",
              "      <th>10</th>\n",
              "      <th>11</th>\n",
              "      <th>12</th>\n",
              "      <th>13</th>\n",
              "      <th>14</th>\n",
              "      <th>15</th>\n",
              "      <th>16</th>\n",
              "      <th>17</th>\n",
              "      <th>18</th>\n",
              "      <th>19</th>\n",
              "      <th>20</th>\n",
              "      <th>21</th>\n",
              "      <th>22</th>\n",
              "      <th>23</th>\n",
              "      <th>24</th>\n",
              "      <th>25</th>\n",
              "      <th>26</th>\n",
              "      <th>27</th>\n",
              "      <th>28</th>\n",
              "      <th>29</th>\n",
              "      <th>30</th>\n",
              "      <th>31</th>\n",
              "      <th>32</th>\n",
              "      <th>33</th>\n",
              "      <th>34</th>\n",
              "      <th>35</th>\n",
              "      <th>36</th>\n",
              "      <th>37</th>\n",
              "      <th>38</th>\n",
              "      <th>39</th>\n",
              "      <th>...</th>\n",
              "      <th>3033</th>\n",
              "      <th>3034</th>\n",
              "      <th>3035</th>\n",
              "      <th>3036</th>\n",
              "      <th>3037</th>\n",
              "      <th>3038</th>\n",
              "      <th>3039</th>\n",
              "      <th>3040</th>\n",
              "      <th>3041</th>\n",
              "      <th>3042</th>\n",
              "      <th>3043</th>\n",
              "      <th>3044</th>\n",
              "      <th>3045</th>\n",
              "      <th>3046</th>\n",
              "      <th>3047</th>\n",
              "      <th>3048</th>\n",
              "      <th>3049</th>\n",
              "      <th>3050</th>\n",
              "      <th>3051</th>\n",
              "      <th>3052</th>\n",
              "      <th>3053</th>\n",
              "      <th>3054</th>\n",
              "      <th>3055</th>\n",
              "      <th>3056</th>\n",
              "      <th>3057</th>\n",
              "      <th>3058</th>\n",
              "      <th>3059</th>\n",
              "      <th>3060</th>\n",
              "      <th>3061</th>\n",
              "      <th>3062</th>\n",
              "      <th>3063</th>\n",
              "      <th>3064</th>\n",
              "      <th>3065</th>\n",
              "      <th>3066</th>\n",
              "      <th>3067</th>\n",
              "      <th>3068</th>\n",
              "      <th>3069</th>\n",
              "      <th>3070</th>\n",
              "      <th>3071</th>\n",
              "      <th>labels</th>\n",
              "    </tr>\n",
              "  </thead>\n",
              "  <tbody>\n",
              "    <tr>\n",
              "      <th>count</th>\n",
              "      <td>4300.000000</td>\n",
              "      <td>4300.000000</td>\n",
              "      <td>4300.000000</td>\n",
              "      <td>4300.000000</td>\n",
              "      <td>4300.000000</td>\n",
              "      <td>4300.000000</td>\n",
              "      <td>4300.000000</td>\n",
              "      <td>4300.000000</td>\n",
              "      <td>4300.000000</td>\n",
              "      <td>4300.000000</td>\n",
              "      <td>4300.000000</td>\n",
              "      <td>4300.000000</td>\n",
              "      <td>4300.000000</td>\n",
              "      <td>4300.000000</td>\n",
              "      <td>4300.000000</td>\n",
              "      <td>4300.000000</td>\n",
              "      <td>4300.00000</td>\n",
              "      <td>4300.000000</td>\n",
              "      <td>4300.000000</td>\n",
              "      <td>4300.000000</td>\n",
              "      <td>4300.000000</td>\n",
              "      <td>4300.000000</td>\n",
              "      <td>4300.000000</td>\n",
              "      <td>4300.000000</td>\n",
              "      <td>4300.000000</td>\n",
              "      <td>4300.000000</td>\n",
              "      <td>4300.000000</td>\n",
              "      <td>4300.000000</td>\n",
              "      <td>4300.000000</td>\n",
              "      <td>4300.000000</td>\n",
              "      <td>4300.000000</td>\n",
              "      <td>4300.000000</td>\n",
              "      <td>4300.000000</td>\n",
              "      <td>4300.000000</td>\n",
              "      <td>4300.000000</td>\n",
              "      <td>4300.000000</td>\n",
              "      <td>4300.000000</td>\n",
              "      <td>4300.000000</td>\n",
              "      <td>4300.000000</td>\n",
              "      <td>4300.000000</td>\n",
              "      <td>...</td>\n",
              "      <td>4300.000000</td>\n",
              "      <td>4300.000000</td>\n",
              "      <td>4300.000000</td>\n",
              "      <td>4300.000000</td>\n",
              "      <td>4300.000000</td>\n",
              "      <td>4300.000000</td>\n",
              "      <td>4300.000000</td>\n",
              "      <td>4300.000000</td>\n",
              "      <td>4300.000000</td>\n",
              "      <td>4300.000000</td>\n",
              "      <td>4300.000000</td>\n",
              "      <td>4300.000000</td>\n",
              "      <td>4300.000000</td>\n",
              "      <td>4300.000000</td>\n",
              "      <td>4300.000000</td>\n",
              "      <td>4300.000000</td>\n",
              "      <td>4300.000000</td>\n",
              "      <td>4300.000000</td>\n",
              "      <td>4300.000000</td>\n",
              "      <td>4300.000000</td>\n",
              "      <td>4300.000000</td>\n",
              "      <td>4300.000000</td>\n",
              "      <td>4300.000000</td>\n",
              "      <td>4300.000000</td>\n",
              "      <td>4300.000000</td>\n",
              "      <td>4300.000000</td>\n",
              "      <td>4300.000000</td>\n",
              "      <td>4300.000000</td>\n",
              "      <td>4300.000000</td>\n",
              "      <td>4300.000000</td>\n",
              "      <td>4300.000000</td>\n",
              "      <td>4300.000000</td>\n",
              "      <td>4300.000000</td>\n",
              "      <td>4300.000000</td>\n",
              "      <td>4300.000000</td>\n",
              "      <td>4300.000000</td>\n",
              "      <td>4300.000000</td>\n",
              "      <td>4300.000000</td>\n",
              "      <td>4300.000000</td>\n",
              "      <td>4300.000000</td>\n",
              "    </tr>\n",
              "    <tr>\n",
              "      <th>mean</th>\n",
              "      <td>70.185349</td>\n",
              "      <td>69.479535</td>\n",
              "      <td>76.637674</td>\n",
              "      <td>65.902093</td>\n",
              "      <td>64.970930</td>\n",
              "      <td>72.519302</td>\n",
              "      <td>63.225581</td>\n",
              "      <td>62.236744</td>\n",
              "      <td>70.139070</td>\n",
              "      <td>61.155581</td>\n",
              "      <td>60.345116</td>\n",
              "      <td>68.647674</td>\n",
              "      <td>60.343488</td>\n",
              "      <td>59.894884</td>\n",
              "      <td>68.787209</td>\n",
              "      <td>60.769535</td>\n",
              "      <td>60.71907</td>\n",
              "      <td>70.353256</td>\n",
              "      <td>62.521395</td>\n",
              "      <td>63.012326</td>\n",
              "      <td>73.575814</td>\n",
              "      <td>63.759070</td>\n",
              "      <td>64.854186</td>\n",
              "      <td>76.325581</td>\n",
              "      <td>65.724651</td>\n",
              "      <td>67.372791</td>\n",
              "      <td>79.752558</td>\n",
              "      <td>67.622093</td>\n",
              "      <td>69.792093</td>\n",
              "      <td>82.974419</td>\n",
              "      <td>69.724884</td>\n",
              "      <td>72.305116</td>\n",
              "      <td>86.241163</td>\n",
              "      <td>71.974651</td>\n",
              "      <td>74.892558</td>\n",
              "      <td>89.433488</td>\n",
              "      <td>73.722326</td>\n",
              "      <td>76.979767</td>\n",
              "      <td>91.980465</td>\n",
              "      <td>74.609535</td>\n",
              "      <td>...</td>\n",
              "      <td>106.826512</td>\n",
              "      <td>114.846977</td>\n",
              "      <td>135.945581</td>\n",
              "      <td>105.115116</td>\n",
              "      <td>113.120698</td>\n",
              "      <td>134.042558</td>\n",
              "      <td>104.084651</td>\n",
              "      <td>112.123256</td>\n",
              "      <td>132.734186</td>\n",
              "      <td>103.083488</td>\n",
              "      <td>111.189070</td>\n",
              "      <td>131.751163</td>\n",
              "      <td>102.102558</td>\n",
              "      <td>110.065349</td>\n",
              "      <td>130.388605</td>\n",
              "      <td>102.022326</td>\n",
              "      <td>109.587674</td>\n",
              "      <td>129.482791</td>\n",
              "      <td>100.515581</td>\n",
              "      <td>107.688837</td>\n",
              "      <td>126.945349</td>\n",
              "      <td>100.013721</td>\n",
              "      <td>106.650698</td>\n",
              "      <td>125.131395</td>\n",
              "      <td>100.501628</td>\n",
              "      <td>106.646279</td>\n",
              "      <td>124.267442</td>\n",
              "      <td>99.984186</td>\n",
              "      <td>105.545116</td>\n",
              "      <td>122.295116</td>\n",
              "      <td>100.076279</td>\n",
              "      <td>105.171628</td>\n",
              "      <td>120.870930</td>\n",
              "      <td>101.476279</td>\n",
              "      <td>106.107209</td>\n",
              "      <td>120.797442</td>\n",
              "      <td>102.560000</td>\n",
              "      <td>106.649535</td>\n",
              "      <td>120.503256</td>\n",
              "      <td>0.500000</td>\n",
              "    </tr>\n",
              "    <tr>\n",
              "      <th>std</th>\n",
              "      <td>62.545874</td>\n",
              "      <td>62.714700</td>\n",
              "      <td>65.052150</td>\n",
              "      <td>59.241950</td>\n",
              "      <td>59.302355</td>\n",
              "      <td>62.256000</td>\n",
              "      <td>56.623028</td>\n",
              "      <td>56.654368</td>\n",
              "      <td>60.077768</td>\n",
              "      <td>54.535069</td>\n",
              "      <td>54.660839</td>\n",
              "      <td>58.694123</td>\n",
              "      <td>53.750762</td>\n",
              "      <td>54.060735</td>\n",
              "      <td>58.710459</td>\n",
              "      <td>53.490955</td>\n",
              "      <td>54.26523</td>\n",
              "      <td>59.535506</td>\n",
              "      <td>54.389498</td>\n",
              "      <td>55.669459</td>\n",
              "      <td>61.335491</td>\n",
              "      <td>54.704774</td>\n",
              "      <td>56.626804</td>\n",
              "      <td>62.909133</td>\n",
              "      <td>55.838196</td>\n",
              "      <td>58.208222</td>\n",
              "      <td>65.095779</td>\n",
              "      <td>56.672081</td>\n",
              "      <td>59.440882</td>\n",
              "      <td>66.839886</td>\n",
              "      <td>57.475356</td>\n",
              "      <td>60.381893</td>\n",
              "      <td>68.074609</td>\n",
              "      <td>58.230926</td>\n",
              "      <td>61.393264</td>\n",
              "      <td>69.309273</td>\n",
              "      <td>58.609678</td>\n",
              "      <td>61.896749</td>\n",
              "      <td>70.033642</td>\n",
              "      <td>58.627834</td>\n",
              "      <td>...</td>\n",
              "      <td>61.922320</td>\n",
              "      <td>63.019441</td>\n",
              "      <td>70.384075</td>\n",
              "      <td>62.000176</td>\n",
              "      <td>63.240011</td>\n",
              "      <td>70.708983</td>\n",
              "      <td>62.481017</td>\n",
              "      <td>63.644520</td>\n",
              "      <td>70.858812</td>\n",
              "      <td>63.131028</td>\n",
              "      <td>64.604948</td>\n",
              "      <td>71.576430</td>\n",
              "      <td>64.268463</td>\n",
              "      <td>65.737689</td>\n",
              "      <td>72.305871</td>\n",
              "      <td>65.759159</td>\n",
              "      <td>67.205060</td>\n",
              "      <td>73.271630</td>\n",
              "      <td>67.105698</td>\n",
              "      <td>68.703762</td>\n",
              "      <td>74.715639</td>\n",
              "      <td>69.000771</td>\n",
              "      <td>70.863152</td>\n",
              "      <td>76.649046</td>\n",
              "      <td>70.473913</td>\n",
              "      <td>72.262437</td>\n",
              "      <td>77.615661</td>\n",
              "      <td>72.094942</td>\n",
              "      <td>73.874431</td>\n",
              "      <td>78.571721</td>\n",
              "      <td>73.633162</td>\n",
              "      <td>75.346666</td>\n",
              "      <td>79.425082</td>\n",
              "      <td>75.083451</td>\n",
              "      <td>76.834841</td>\n",
              "      <td>80.410017</td>\n",
              "      <td>76.212841</td>\n",
              "      <td>77.852795</td>\n",
              "      <td>81.006705</td>\n",
              "      <td>0.500058</td>\n",
              "    </tr>\n",
              "    <tr>\n",
              "      <th>min</th>\n",
              "      <td>0.000000</td>\n",
              "      <td>0.000000</td>\n",
              "      <td>0.000000</td>\n",
              "      <td>0.000000</td>\n",
              "      <td>0.000000</td>\n",
              "      <td>0.000000</td>\n",
              "      <td>0.000000</td>\n",
              "      <td>0.000000</td>\n",
              "      <td>0.000000</td>\n",
              "      <td>0.000000</td>\n",
              "      <td>0.000000</td>\n",
              "      <td>0.000000</td>\n",
              "      <td>0.000000</td>\n",
              "      <td>0.000000</td>\n",
              "      <td>0.000000</td>\n",
              "      <td>0.000000</td>\n",
              "      <td>0.00000</td>\n",
              "      <td>0.000000</td>\n",
              "      <td>0.000000</td>\n",
              "      <td>0.000000</td>\n",
              "      <td>0.000000</td>\n",
              "      <td>0.000000</td>\n",
              "      <td>0.000000</td>\n",
              "      <td>0.000000</td>\n",
              "      <td>0.000000</td>\n",
              "      <td>0.000000</td>\n",
              "      <td>0.000000</td>\n",
              "      <td>0.000000</td>\n",
              "      <td>0.000000</td>\n",
              "      <td>0.000000</td>\n",
              "      <td>0.000000</td>\n",
              "      <td>0.000000</td>\n",
              "      <td>0.000000</td>\n",
              "      <td>0.000000</td>\n",
              "      <td>0.000000</td>\n",
              "      <td>0.000000</td>\n",
              "      <td>0.000000</td>\n",
              "      <td>0.000000</td>\n",
              "      <td>0.000000</td>\n",
              "      <td>0.000000</td>\n",
              "      <td>...</td>\n",
              "      <td>0.000000</td>\n",
              "      <td>0.000000</td>\n",
              "      <td>0.000000</td>\n",
              "      <td>0.000000</td>\n",
              "      <td>0.000000</td>\n",
              "      <td>0.000000</td>\n",
              "      <td>0.000000</td>\n",
              "      <td>0.000000</td>\n",
              "      <td>0.000000</td>\n",
              "      <td>0.000000</td>\n",
              "      <td>0.000000</td>\n",
              "      <td>0.000000</td>\n",
              "      <td>0.000000</td>\n",
              "      <td>0.000000</td>\n",
              "      <td>0.000000</td>\n",
              "      <td>0.000000</td>\n",
              "      <td>0.000000</td>\n",
              "      <td>0.000000</td>\n",
              "      <td>0.000000</td>\n",
              "      <td>0.000000</td>\n",
              "      <td>0.000000</td>\n",
              "      <td>0.000000</td>\n",
              "      <td>0.000000</td>\n",
              "      <td>0.000000</td>\n",
              "      <td>0.000000</td>\n",
              "      <td>0.000000</td>\n",
              "      <td>0.000000</td>\n",
              "      <td>0.000000</td>\n",
              "      <td>0.000000</td>\n",
              "      <td>0.000000</td>\n",
              "      <td>0.000000</td>\n",
              "      <td>0.000000</td>\n",
              "      <td>0.000000</td>\n",
              "      <td>0.000000</td>\n",
              "      <td>0.000000</td>\n",
              "      <td>0.000000</td>\n",
              "      <td>0.000000</td>\n",
              "      <td>0.000000</td>\n",
              "      <td>0.000000</td>\n",
              "      <td>0.000000</td>\n",
              "    </tr>\n",
              "    <tr>\n",
              "      <th>25%</th>\n",
              "      <td>25.000000</td>\n",
              "      <td>25.000000</td>\n",
              "      <td>29.000000</td>\n",
              "      <td>24.000000</td>\n",
              "      <td>24.000000</td>\n",
              "      <td>28.000000</td>\n",
              "      <td>25.000000</td>\n",
              "      <td>24.000000</td>\n",
              "      <td>28.000000</td>\n",
              "      <td>24.000000</td>\n",
              "      <td>24.000000</td>\n",
              "      <td>28.000000</td>\n",
              "      <td>23.000000</td>\n",
              "      <td>23.000000</td>\n",
              "      <td>27.750000</td>\n",
              "      <td>24.000000</td>\n",
              "      <td>24.00000</td>\n",
              "      <td>28.000000</td>\n",
              "      <td>24.000000</td>\n",
              "      <td>24.000000</td>\n",
              "      <td>29.000000</td>\n",
              "      <td>25.000000</td>\n",
              "      <td>25.000000</td>\n",
              "      <td>30.000000</td>\n",
              "      <td>25.000000</td>\n",
              "      <td>25.000000</td>\n",
              "      <td>31.000000</td>\n",
              "      <td>26.000000</td>\n",
              "      <td>26.750000</td>\n",
              "      <td>32.000000</td>\n",
              "      <td>27.000000</td>\n",
              "      <td>27.000000</td>\n",
              "      <td>33.000000</td>\n",
              "      <td>28.000000</td>\n",
              "      <td>28.000000</td>\n",
              "      <td>34.000000</td>\n",
              "      <td>29.000000</td>\n",
              "      <td>29.000000</td>\n",
              "      <td>35.000000</td>\n",
              "      <td>29.000000</td>\n",
              "      <td>...</td>\n",
              "      <td>56.000000</td>\n",
              "      <td>60.000000</td>\n",
              "      <td>71.000000</td>\n",
              "      <td>53.000000</td>\n",
              "      <td>58.000000</td>\n",
              "      <td>69.000000</td>\n",
              "      <td>52.000000</td>\n",
              "      <td>57.000000</td>\n",
              "      <td>67.000000</td>\n",
              "      <td>50.000000</td>\n",
              "      <td>55.000000</td>\n",
              "      <td>66.000000</td>\n",
              "      <td>48.000000</td>\n",
              "      <td>52.000000</td>\n",
              "      <td>63.000000</td>\n",
              "      <td>47.000000</td>\n",
              "      <td>50.000000</td>\n",
              "      <td>60.000000</td>\n",
              "      <td>44.000000</td>\n",
              "      <td>45.750000</td>\n",
              "      <td>56.000000</td>\n",
              "      <td>41.000000</td>\n",
              "      <td>42.000000</td>\n",
              "      <td>50.000000</td>\n",
              "      <td>38.000000</td>\n",
              "      <td>40.000000</td>\n",
              "      <td>49.000000</td>\n",
              "      <td>36.000000</td>\n",
              "      <td>36.000000</td>\n",
              "      <td>45.000000</td>\n",
              "      <td>34.000000</td>\n",
              "      <td>35.000000</td>\n",
              "      <td>43.000000</td>\n",
              "      <td>35.000000</td>\n",
              "      <td>34.000000</td>\n",
              "      <td>42.000000</td>\n",
              "      <td>34.000000</td>\n",
              "      <td>34.000000</td>\n",
              "      <td>42.000000</td>\n",
              "      <td>0.000000</td>\n",
              "    </tr>\n",
              "    <tr>\n",
              "      <th>50%</th>\n",
              "      <td>49.000000</td>\n",
              "      <td>47.000000</td>\n",
              "      <td>55.000000</td>\n",
              "      <td>46.000000</td>\n",
              "      <td>45.000000</td>\n",
              "      <td>52.000000</td>\n",
              "      <td>45.000000</td>\n",
              "      <td>43.000000</td>\n",
              "      <td>50.000000</td>\n",
              "      <td>44.000000</td>\n",
              "      <td>43.000000</td>\n",
              "      <td>50.000000</td>\n",
              "      <td>44.000000</td>\n",
              "      <td>43.000000</td>\n",
              "      <td>50.500000</td>\n",
              "      <td>44.000000</td>\n",
              "      <td>44.00000</td>\n",
              "      <td>52.000000</td>\n",
              "      <td>46.000000</td>\n",
              "      <td>45.000000</td>\n",
              "      <td>54.000000</td>\n",
              "      <td>47.000000</td>\n",
              "      <td>47.000000</td>\n",
              "      <td>56.000000</td>\n",
              "      <td>49.000000</td>\n",
              "      <td>48.000000</td>\n",
              "      <td>59.000000</td>\n",
              "      <td>50.000000</td>\n",
              "      <td>50.000000</td>\n",
              "      <td>60.000000</td>\n",
              "      <td>52.000000</td>\n",
              "      <td>51.000000</td>\n",
              "      <td>63.000000</td>\n",
              "      <td>55.000000</td>\n",
              "      <td>55.000000</td>\n",
              "      <td>67.000000</td>\n",
              "      <td>56.000000</td>\n",
              "      <td>57.000000</td>\n",
              "      <td>69.000000</td>\n",
              "      <td>57.000000</td>\n",
              "      <td>...</td>\n",
              "      <td>101.000000</td>\n",
              "      <td>116.000000</td>\n",
              "      <td>147.000000</td>\n",
              "      <td>99.000000</td>\n",
              "      <td>114.000000</td>\n",
              "      <td>145.000000</td>\n",
              "      <td>97.000000</td>\n",
              "      <td>112.000000</td>\n",
              "      <td>143.000000</td>\n",
              "      <td>95.000000</td>\n",
              "      <td>110.000000</td>\n",
              "      <td>141.000000</td>\n",
              "      <td>95.000000</td>\n",
              "      <td>109.000000</td>\n",
              "      <td>139.000000</td>\n",
              "      <td>93.000000</td>\n",
              "      <td>108.000000</td>\n",
              "      <td>138.000000</td>\n",
              "      <td>90.000000</td>\n",
              "      <td>103.000000</td>\n",
              "      <td>132.000000</td>\n",
              "      <td>88.000000</td>\n",
              "      <td>100.000000</td>\n",
              "      <td>130.000000</td>\n",
              "      <td>89.000000</td>\n",
              "      <td>101.000000</td>\n",
              "      <td>128.000000</td>\n",
              "      <td>87.000000</td>\n",
              "      <td>97.000000</td>\n",
              "      <td>126.000000</td>\n",
              "      <td>85.000000</td>\n",
              "      <td>93.000000</td>\n",
              "      <td>119.500000</td>\n",
              "      <td>85.500000</td>\n",
              "      <td>94.000000</td>\n",
              "      <td>121.000000</td>\n",
              "      <td>85.000000</td>\n",
              "      <td>92.000000</td>\n",
              "      <td>116.500000</td>\n",
              "      <td>0.500000</td>\n",
              "    </tr>\n",
              "    <tr>\n",
              "      <th>75%</th>\n",
              "      <td>92.000000</td>\n",
              "      <td>92.000000</td>\n",
              "      <td>104.000000</td>\n",
              "      <td>86.000000</td>\n",
              "      <td>83.000000</td>\n",
              "      <td>97.000000</td>\n",
              "      <td>81.000000</td>\n",
              "      <td>79.000000</td>\n",
              "      <td>92.000000</td>\n",
              "      <td>79.000000</td>\n",
              "      <td>76.000000</td>\n",
              "      <td>90.000000</td>\n",
              "      <td>78.000000</td>\n",
              "      <td>75.000000</td>\n",
              "      <td>90.000000</td>\n",
              "      <td>80.000000</td>\n",
              "      <td>78.00000</td>\n",
              "      <td>92.000000</td>\n",
              "      <td>82.000000</td>\n",
              "      <td>82.000000</td>\n",
              "      <td>98.000000</td>\n",
              "      <td>85.000000</td>\n",
              "      <td>86.000000</td>\n",
              "      <td>103.000000</td>\n",
              "      <td>89.000000</td>\n",
              "      <td>91.000000</td>\n",
              "      <td>110.000000</td>\n",
              "      <td>93.000000</td>\n",
              "      <td>96.000000</td>\n",
              "      <td>117.000000</td>\n",
              "      <td>99.000000</td>\n",
              "      <td>103.000000</td>\n",
              "      <td>126.000000</td>\n",
              "      <td>104.000000</td>\n",
              "      <td>108.000000</td>\n",
              "      <td>133.000000</td>\n",
              "      <td>107.000000</td>\n",
              "      <td>112.000000</td>\n",
              "      <td>139.000000</td>\n",
              "      <td>109.000000</td>\n",
              "      <td>...</td>\n",
              "      <td>153.000000</td>\n",
              "      <td>166.000000</td>\n",
              "      <td>195.250000</td>\n",
              "      <td>151.000000</td>\n",
              "      <td>165.000000</td>\n",
              "      <td>194.000000</td>\n",
              "      <td>151.000000</td>\n",
              "      <td>163.250000</td>\n",
              "      <td>193.000000</td>\n",
              "      <td>150.000000</td>\n",
              "      <td>162.000000</td>\n",
              "      <td>192.250000</td>\n",
              "      <td>150.000000</td>\n",
              "      <td>162.000000</td>\n",
              "      <td>192.000000</td>\n",
              "      <td>151.000000</td>\n",
              "      <td>164.000000</td>\n",
              "      <td>192.000000</td>\n",
              "      <td>151.000000</td>\n",
              "      <td>163.000000</td>\n",
              "      <td>192.000000</td>\n",
              "      <td>152.000000</td>\n",
              "      <td>165.000000</td>\n",
              "      <td>193.000000</td>\n",
              "      <td>154.000000</td>\n",
              "      <td>166.000000</td>\n",
              "      <td>193.000000</td>\n",
              "      <td>156.000000</td>\n",
              "      <td>167.000000</td>\n",
              "      <td>192.250000</td>\n",
              "      <td>160.000000</td>\n",
              "      <td>170.000000</td>\n",
              "      <td>194.000000</td>\n",
              "      <td>163.000000</td>\n",
              "      <td>173.000000</td>\n",
              "      <td>195.000000</td>\n",
              "      <td>165.000000</td>\n",
              "      <td>176.000000</td>\n",
              "      <td>197.000000</td>\n",
              "      <td>1.000000</td>\n",
              "    </tr>\n",
              "    <tr>\n",
              "      <th>max</th>\n",
              "      <td>255.000000</td>\n",
              "      <td>255.000000</td>\n",
              "      <td>255.000000</td>\n",
              "      <td>255.000000</td>\n",
              "      <td>255.000000</td>\n",
              "      <td>255.000000</td>\n",
              "      <td>255.000000</td>\n",
              "      <td>255.000000</td>\n",
              "      <td>255.000000</td>\n",
              "      <td>255.000000</td>\n",
              "      <td>255.000000</td>\n",
              "      <td>255.000000</td>\n",
              "      <td>255.000000</td>\n",
              "      <td>255.000000</td>\n",
              "      <td>255.000000</td>\n",
              "      <td>255.000000</td>\n",
              "      <td>255.00000</td>\n",
              "      <td>255.000000</td>\n",
              "      <td>255.000000</td>\n",
              "      <td>255.000000</td>\n",
              "      <td>255.000000</td>\n",
              "      <td>255.000000</td>\n",
              "      <td>255.000000</td>\n",
              "      <td>255.000000</td>\n",
              "      <td>255.000000</td>\n",
              "      <td>255.000000</td>\n",
              "      <td>255.000000</td>\n",
              "      <td>255.000000</td>\n",
              "      <td>255.000000</td>\n",
              "      <td>255.000000</td>\n",
              "      <td>255.000000</td>\n",
              "      <td>255.000000</td>\n",
              "      <td>255.000000</td>\n",
              "      <td>255.000000</td>\n",
              "      <td>255.000000</td>\n",
              "      <td>255.000000</td>\n",
              "      <td>255.000000</td>\n",
              "      <td>255.000000</td>\n",
              "      <td>255.000000</td>\n",
              "      <td>255.000000</td>\n",
              "      <td>...</td>\n",
              "      <td>255.000000</td>\n",
              "      <td>255.000000</td>\n",
              "      <td>255.000000</td>\n",
              "      <td>255.000000</td>\n",
              "      <td>255.000000</td>\n",
              "      <td>255.000000</td>\n",
              "      <td>255.000000</td>\n",
              "      <td>255.000000</td>\n",
              "      <td>255.000000</td>\n",
              "      <td>255.000000</td>\n",
              "      <td>255.000000</td>\n",
              "      <td>255.000000</td>\n",
              "      <td>255.000000</td>\n",
              "      <td>255.000000</td>\n",
              "      <td>255.000000</td>\n",
              "      <td>255.000000</td>\n",
              "      <td>255.000000</td>\n",
              "      <td>255.000000</td>\n",
              "      <td>255.000000</td>\n",
              "      <td>255.000000</td>\n",
              "      <td>255.000000</td>\n",
              "      <td>255.000000</td>\n",
              "      <td>255.000000</td>\n",
              "      <td>255.000000</td>\n",
              "      <td>255.000000</td>\n",
              "      <td>255.000000</td>\n",
              "      <td>255.000000</td>\n",
              "      <td>255.000000</td>\n",
              "      <td>255.000000</td>\n",
              "      <td>255.000000</td>\n",
              "      <td>255.000000</td>\n",
              "      <td>255.000000</td>\n",
              "      <td>255.000000</td>\n",
              "      <td>255.000000</td>\n",
              "      <td>255.000000</td>\n",
              "      <td>255.000000</td>\n",
              "      <td>255.000000</td>\n",
              "      <td>255.000000</td>\n",
              "      <td>255.000000</td>\n",
              "      <td>1.000000</td>\n",
              "    </tr>\n",
              "  </tbody>\n",
              "</table>\n",
              "<p>8 rows × 3073 columns</p>\n",
              "</div>"
            ],
            "text/plain": [
              "                 0            1  ...         3071       labels\n",
              "count  4300.000000  4300.000000  ...  4300.000000  4300.000000\n",
              "mean     70.185349    69.479535  ...   120.503256     0.500000\n",
              "std      62.545874    62.714700  ...    81.006705     0.500058\n",
              "min       0.000000     0.000000  ...     0.000000     0.000000\n",
              "25%      25.000000    25.000000  ...    42.000000     0.000000\n",
              "50%      49.000000    47.000000  ...   116.500000     0.500000\n",
              "75%      92.000000    92.000000  ...   197.000000     1.000000\n",
              "max     255.000000   255.000000  ...   255.000000     1.000000\n",
              "\n",
              "[8 rows x 3073 columns]"
            ]
          },
          "metadata": {
            "tags": []
          },
          "execution_count": 10
        }
      ]
    },
    {
      "cell_type": "code",
      "metadata": {
        "colab": {
          "base_uri": "https://localhost:8080/"
        },
        "id": "nQCufrDaaijK",
        "outputId": "09dfe71d-b088-4b90-c3bb-8845c86a6489"
      },
      "source": [
        "df.isnull().any()"
      ],
      "execution_count": 11,
      "outputs": [
        {
          "output_type": "execute_result",
          "data": {
            "text/plain": [
              "0         False\n",
              "1         False\n",
              "2         False\n",
              "3         False\n",
              "4         False\n",
              "          ...  \n",
              "3068      False\n",
              "3069      False\n",
              "3070      False\n",
              "3071      False\n",
              "labels    False\n",
              "Length: 3073, dtype: bool"
            ]
          },
          "metadata": {
            "tags": []
          },
          "execution_count": 11
        }
      ]
    },
    {
      "cell_type": "code",
      "metadata": {
        "colab": {
          "base_uri": "https://localhost:8080/"
        },
        "id": "SfmfSlQbbXFu",
        "outputId": "e510a3dc-5103-4f84-d3ce-f3e788ae4417"
      },
      "source": [
        "df['labels'].value_counts()"
      ],
      "execution_count": 13,
      "outputs": [
        {
          "output_type": "execute_result",
          "data": {
            "text/plain": [
              "1    2150\n",
              "0    2150\n",
              "Name: labels, dtype: int64"
            ]
          },
          "metadata": {
            "tags": []
          },
          "execution_count": 13
        }
      ]
    },
    {
      "cell_type": "code",
      "metadata": {
        "colab": {
          "base_uri": "https://localhost:8080/",
          "height": 282
        },
        "id": "rUQLkabda8IQ",
        "outputId": "6a2ce0fa-998c-4546-fa61-011b8f8ccd44"
      },
      "source": [
        "plt.bar([0,1], df['labels'].value_counts(), width = 0.3)"
      ],
      "execution_count": 16,
      "outputs": [
        {
          "output_type": "execute_result",
          "data": {
            "text/plain": [
              "<BarContainer object of 2 artists>"
            ]
          },
          "metadata": {
            "tags": []
          },
          "execution_count": 16
        },
        {
          "output_type": "display_data",
          "data": {
            "image/png": "[encoded data removed]",
            "text/plain": [
              "<Figure size 432x288 with 1 Axes>"
            ]
          },
          "metadata": {
            "tags": [],
            "needs_background": "light"
          }
        }
      ]
    },
    {
      "cell_type": "code",
      "metadata": {
        "id": "g8Gjda5AejqP"
      },
      "source": [
        ""
      ],
      "execution_count": null,
      "outputs": []
    },
    {
      "cell_type": "markdown",
      "metadata": {
        "id": "3F5JOpaPK1oa"
      },
      "source": [
        "Spliting Data"
      ]
    },
    {
      "cell_type": "code",
      "metadata": {
        "id": "YYXnlYHYaCrn"
      },
      "source": [
        "X = df.iloc[:,:-1]\n",
        "Y = df['labels']\n",
        "x_train,x_test,y_train,y_test = train_test_split(X,Y, test_size=0.5 ,random_state=0)"
      ],
      "execution_count": 116,
      "outputs": []
    },
    {
      "cell_type": "code",
      "metadata": {
        "colab": {
          "base_uri": "https://localhost:8080/"
        },
        "id": "zseVHL2za5Rk",
        "outputId": "ae06f3c7-4e24-4fd0-889f-3c1a5a163a26"
      },
      "source": [
        "print(x_train.shape)\n",
        "print(x_test.shape)\n",
        "print(y_train.shape)\n",
        "print(y_test.shape)"
      ],
      "execution_count": 117,
      "outputs": [
        {
          "output_type": "stream",
          "text": [
            "(2150, 3072)\n",
            "(2150, 3072)\n",
            "(2150,)\n",
            "(2150,)\n"
          ],
          "name": "stdout"
        }
      ]
    },
    {
      "cell_type": "code",
      "metadata": {
        "colab": {
          "base_uri": "https://localhost:8080/"
        },
        "id": "60DshG34bBz-",
        "outputId": "071e30ee-802c-47ac-f3df-a39cab8147e1"
      },
      "source": [
        "y_train.value_counts(normalize=True)"
      ],
      "execution_count": 118,
      "outputs": [
        {
          "output_type": "execute_result",
          "data": {
            "text/plain": [
              "1    0.517674\n",
              "0    0.482326\n",
              "Name: labels, dtype: float64"
            ]
          },
          "metadata": {
            "tags": []
          },
          "execution_count": 118
        }
      ]
    },
    {
      "cell_type": "markdown",
      "metadata": {
        "id": "Y1TvHgvmZ_mm"
      },
      "source": [
        "Training on default Parameters"
      ]
    },
    {
      "cell_type": "code",
      "metadata": {
        "colab": {
          "base_uri": "https://localhost:8080/"
        },
        "id": "L6VaxfKuc5SY",
        "outputId": "8f5044af-2b46-475b-be8f-e19da03422ec"
      },
      "source": [
        "svc = SVC(C=1)\n",
        "svc.fit(x_train,y_train)"
      ],
      "execution_count": null,
      "outputs": [
        {
          "output_type": "execute_result",
          "data": {
            "text/plain": [
              "SVC(C=1, break_ties=False, cache_size=200, class_weight=None, coef0=0.0,\n",
              "    decision_function_shape='ovr', degree=3, gamma='scale', kernel='rbf',\n",
              "    max_iter=-1, probability=False, random_state=None, shrinking=True,\n",
              "    tol=0.001, verbose=False)"
            ]
          },
          "metadata": {
            "tags": []
          },
          "execution_count": 47
        }
      ]
    },
    {
      "cell_type": "code",
      "metadata": {
        "colab": {
          "base_uri": "https://localhost:8080/"
        },
        "id": "8Br1QRhRdVnd",
        "outputId": "9f15b09f-c483-463e-d11a-8d914e4f6799"
      },
      "source": [
        "svc.score(x_test,y_test)"
      ],
      "execution_count": null,
      "outputs": [
        {
          "output_type": "execute_result",
          "data": {
            "text/plain": [
              "0.9618604651162791"
            ]
          },
          "metadata": {
            "tags": []
          },
          "execution_count": 48
        }
      ]
    },
    {
      "cell_type": "code",
      "metadata": {
        "colab": {
          "base_uri": "https://localhost:8080/"
        },
        "id": "qkGQwwpOjRli",
        "outputId": "bd16f8af-5cf5-4dc1-f20f-763c1dfe7fdb"
      },
      "source": [
        "knc = KNeighborsClassifier()\n",
        "knc.fit(x_train,y_train)\n",
        "knc.score(x_test,y_test)"
      ],
      "execution_count": null,
      "outputs": [
        {
          "output_type": "execute_result",
          "data": {
            "text/plain": [
              "0.8916279069767442"
            ]
          },
          "metadata": {
            "tags": []
          },
          "execution_count": 42
        }
      ]
    },
    {
      "cell_type": "code",
      "metadata": {
        "colab": {
          "base_uri": "https://localhost:8080/"
        },
        "id": "9UNPMoVRjZGx",
        "outputId": "56fd58b4-fc9a-4132-f3d1-f3db7a3615ff"
      },
      "source": [
        "mlp = MLPClassifier()\n",
        "mlp.fit(x_train.to_numpy()/255,y_train)\n",
        "mlp.score(x_test.to_numpy()/255,y_test)"
      ],
      "execution_count": null,
      "outputs": [
        {
          "output_type": "stream",
          "text": [
            "/usr/local/lib/python3.7/dist-packages/sklearn/neural_network/_multilayer_perceptron.py:571: ConvergenceWarning: Stochastic Optimizer: Maximum iterations (200) reached and the optimization hasn't converged yet.\n",
            "  % self.max_iter, ConvergenceWarning)\n"
          ],
          "name": "stderr"
        },
        {
          "output_type": "execute_result",
          "data": {
            "text/plain": [
              "0.9604651162790697"
            ]
          },
          "metadata": {
            "tags": []
          },
          "execution_count": 43
        }
      ]
    },
    {
      "cell_type": "markdown",
      "metadata": {
        "id": "5rUh71VKK-La"
      },
      "source": [
        "Hyperparameter Tuning"
      ]
    },
    {
      "cell_type": "code",
      "metadata": {
        "id": "9m1OZbSfZ-yG"
      },
      "source": [
        "parameters = {\n",
        "    'kernel':['linear', 'poly', 'rbf'],\n",
        "    'C': [ 0.01, 0.1, 1, 3, 5, 10, 15, 20, 30 ],\n",
        "}\n",
        "svc = SVC()\n",
        "grid_search = GridSearchCV(svc, parameters,cv=5)"
      ],
      "execution_count": null,
      "outputs": []
    },
    {
      "cell_type": "code",
      "metadata": {
        "colab": {
          "base_uri": "https://localhost:8080/"
        },
        "id": "-bSoRU6Cd43N",
        "outputId": "6a5a02d5-fb53-4f61-9857-71b461221d9f"
      },
      "source": [
        "grid_search.fit(x_train,y_train)"
      ],
      "execution_count": null,
      "outputs": [
        {
          "output_type": "execute_result",
          "data": {
            "text/plain": [
              "GridSearchCV(cv=5, error_score=nan,\n",
              "             estimator=SVC(C=1.0, break_ties=False, cache_size=200,\n",
              "                           class_weight=None, coef0=0.0,\n",
              "                           decision_function_shape='ovr', degree=3,\n",
              "                           gamma='scale', kernel='rbf', max_iter=-1,\n",
              "                           probability=False, random_state=None, shrinking=True,\n",
              "                           tol=0.001, verbose=False),\n",
              "             iid='deprecated', n_jobs=None,\n",
              "             param_grid={'C': [0.01, 0.1, 1, 3, 5, 10, 15, 20, 30],\n",
              "                         'kernel': ['linear', 'poly', 'rbf']},\n",
              "             pre_dispatch='2*n_jobs', refit=True, return_train_score=False,\n",
              "             scoring=None, verbose=0)"
            ]
          },
          "metadata": {
            "tags": []
          },
          "execution_count": 52
        }
      ]
    },
    {
      "cell_type": "code",
      "metadata": {
        "colab": {
          "base_uri": "https://localhost:8080/"
        },
        "id": "n0gBPB5ho0wD",
        "outputId": "1e93b6cc-fe6c-4261-bfea-de09876456fb"
      },
      "source": [
        "grid_search.best_params_"
      ],
      "execution_count": null,
      "outputs": [
        {
          "output_type": "execute_result",
          "data": {
            "text/plain": [
              "{'C': 10, 'kernel': 'rbf'}"
            ]
          },
          "metadata": {
            "tags": []
          },
          "execution_count": 53
        }
      ]
    },
    {
      "cell_type": "code",
      "metadata": {
        "id": "9Wvc7rJBo796"
      },
      "source": [
        "best_svc = grid_search.best_estimator_"
      ],
      "execution_count": null,
      "outputs": []
    },
    {
      "cell_type": "code",
      "metadata": {
        "colab": {
          "base_uri": "https://localhost:8080/"
        },
        "id": "gpHxsWoqpApc",
        "outputId": "a2d74ccc-688d-4ec3-84ac-c9c5dd292ef5"
      },
      "source": [
        "best_svc.score(x_test,y_test)"
      ],
      "execution_count": null,
      "outputs": [
        {
          "output_type": "execute_result",
          "data": {
            "text/plain": [
              "0.967906976744186"
            ]
          },
          "metadata": {
            "tags": []
          },
          "execution_count": 55
        }
      ]
    },
    {
      "cell_type": "code",
      "metadata": {
        "id": "rbnZcaJ9qFVF",
        "colab": {
          "base_uri": "https://localhost:8080/"
        },
        "outputId": "4eb27c0a-f6c8-4830-a24c-e5eb2f46be1f"
      },
      "source": [
        "print('Number of Support Vectors in best model : ',best_svc.n_support_)"
      ],
      "execution_count": 65,
      "outputs": [
        {
          "output_type": "stream",
          "text": [
            "Number of Support Vectors in best model :  [352 331]\n"
          ],
          "name": "stdout"
        }
      ]
    },
    {
      "cell_type": "code",
      "metadata": {
        "id": "wbrKrYvGeEcQ"
      },
      "source": [
        "parameters = {\n",
        "    'n_neighbors':[3, 5, 7, 10, 15 , 20],\n",
        "    'leaf_size':[20,30,45],\n",
        "}\n",
        "knc = KNeighborsClassifier()\n",
        "grid_search = GridSearchCV(knc, parameters,cv=5)"
      ],
      "execution_count": 63,
      "outputs": []
    },
    {
      "cell_type": "code",
      "metadata": {
        "id": "xTM_tZi5p7FC",
        "colab": {
          "base_uri": "https://localhost:8080/"
        },
        "outputId": "afdc2df9-2332-44d2-dc09-22dd27734ac0"
      },
      "source": [
        "grid_search.fit(x_train,y_train)"
      ],
      "execution_count": 66,
      "outputs": [
        {
          "output_type": "execute_result",
          "data": {
            "text/plain": [
              "GridSearchCV(cv=5, error_score=nan,\n",
              "             estimator=KNeighborsClassifier(algorithm='auto', leaf_size=30,\n",
              "                                            metric='minkowski',\n",
              "                                            metric_params=None, n_jobs=None,\n",
              "                                            n_neighbors=5, p=2,\n",
              "                                            weights='uniform'),\n",
              "             iid='deprecated', n_jobs=None,\n",
              "             param_grid={'leaf_size': [20, 30, 45],\n",
              "                         'n_neighbors': [3, 5, 7, 10, 15, 20]},\n",
              "             pre_dispatch='2*n_jobs', refit=True, return_train_score=False,\n",
              "             scoring=None, verbose=0)"
            ]
          },
          "metadata": {
            "tags": []
          },
          "execution_count": 66
        }
      ]
    },
    {
      "cell_type": "code",
      "metadata": {
        "colab": {
          "base_uri": "https://localhost:8080/"
        },
        "id": "hvhRUKbjvBSF",
        "outputId": "7372f9a9-df78-4dee-fb73-6207525ad9ad"
      },
      "source": [
        "grid_search.best_params_"
      ],
      "execution_count": 67,
      "outputs": [
        {
          "output_type": "execute_result",
          "data": {
            "text/plain": [
              "{'leaf_size': 20, 'n_neighbors': 3}"
            ]
          },
          "metadata": {
            "tags": []
          },
          "execution_count": 67
        }
      ]
    },
    {
      "cell_type": "code",
      "metadata": {
        "id": "siDUUEsEu9r-"
      },
      "source": [
        "best_knc = grid_search.best_estimator_"
      ],
      "execution_count": 68,
      "outputs": []
    },
    {
      "cell_type": "code",
      "metadata": {
        "colab": {
          "base_uri": "https://localhost:8080/"
        },
        "id": "5uho-ql0vHxT",
        "outputId": "6727bd7e-b810-424f-acb6-99bbc6868b4c"
      },
      "source": [
        "best_knc.score(x_test,y_test)"
      ],
      "execution_count": 69,
      "outputs": [
        {
          "output_type": "execute_result",
          "data": {
            "text/plain": [
              "0.9004651162790698"
            ]
          },
          "metadata": {
            "tags": []
          },
          "execution_count": 69
        }
      ]
    },
    {
      "cell_type": "code",
      "metadata": {
        "id": "2SVnCXh7fQX0"
      },
      "source": [
        "parameters = {\n",
        "    'hidden_layer_sizes':[(512,128,64),(512,256,128),(512,512,256)],\n",
        "    'learning_rate': ['invscaling','adaptive'],\n",
        "    'learning_rate_init': [0.05],\n",
        "}\n",
        "mlp = MLPClassifier(max_iter=1000)\n",
        "grid_search = GridSearchCV(mlp, parameters,cv=5)"
      ],
      "execution_count": 80,
      "outputs": []
    },
    {
      "cell_type": "code",
      "metadata": {
        "colab": {
          "base_uri": "https://localhost:8080/"
        },
        "id": "ZF_3jiKWvgv2",
        "outputId": "ff28f3c4-48bb-4e31-a1b5-8ddd4192a22a"
      },
      "source": [
        "grid_search.fit(x_train.to_numpy()/255,y_train)"
      ],
      "execution_count": 81,
      "outputs": [
        {
          "output_type": "execute_result",
          "data": {
            "text/plain": [
              "GridSearchCV(cv=5, error_score=nan,\n",
              "             estimator=MLPClassifier(activation='relu', alpha=0.0001,\n",
              "                                     batch_size='auto', beta_1=0.9,\n",
              "                                     beta_2=0.999, early_stopping=False,\n",
              "                                     epsilon=1e-08, hidden_layer_sizes=(100,),\n",
              "                                     learning_rate='constant',\n",
              "                                     learning_rate_init=0.001, max_fun=15000,\n",
              "                                     max_iter=1000, momentum=0.9,\n",
              "                                     n_iter_no_change=10,\n",
              "                                     nesterovs_momentum=True, power_t=0.5,\n",
              "                                     random_stat...ffle=True,\n",
              "                                     solver='adam', tol=0.0001,\n",
              "                                     validation_fraction=0.1, verbose=False,\n",
              "                                     warm_start=False),\n",
              "             iid='deprecated', n_jobs=None,\n",
              "             param_grid={'hidden_layer_sizes': [(512, 128, 64), (512, 256, 128),\n",
              "                                                (512, 512, 256)],\n",
              "                         'learning_rate': ['invscaling', 'adaptive'],\n",
              "                         'learning_rate_init': [0.05]},\n",
              "             pre_dispatch='2*n_jobs', refit=True, return_train_score=False,\n",
              "             scoring=None, verbose=0)"
            ]
          },
          "metadata": {
            "tags": []
          },
          "execution_count": 81
        }
      ]
    },
    {
      "cell_type": "code",
      "metadata": {
        "colab": {
          "base_uri": "https://localhost:8080/"
        },
        "id": "RQCIY5sMxRBo",
        "outputId": "4582e602-65c1-4611-bed9-1d174056cde5"
      },
      "source": [
        "grid_search.best_params_"
      ],
      "execution_count": 82,
      "outputs": [
        {
          "output_type": "execute_result",
          "data": {
            "text/plain": [
              "{'hidden_layer_sizes': (512, 128, 64),\n",
              " 'learning_rate': 'invscaling',\n",
              " 'learning_rate_init': 0.05}"
            ]
          },
          "metadata": {
            "tags": []
          },
          "execution_count": 82
        }
      ]
    },
    {
      "cell_type": "code",
      "metadata": {
        "id": "6F1GsjxExS9v"
      },
      "source": [
        "best_mlp = grid_search.best_estimator_"
      ],
      "execution_count": 83,
      "outputs": []
    },
    {
      "cell_type": "code",
      "metadata": {
        "colab": {
          "base_uri": "https://localhost:8080/"
        },
        "id": "JtPw1vzzxUmK",
        "outputId": "2e20ec9f-ea3a-4e46-cd82-abb6706ae364"
      },
      "source": [
        "best_mlp.score(x_test.to_numpy()/255,y_test)"
      ],
      "execution_count": 119,
      "outputs": [
        {
          "output_type": "execute_result",
          "data": {
            "text/plain": [
              "0.8865116279069768"
            ]
          },
          "metadata": {
            "tags": []
          },
          "execution_count": 119
        }
      ]
    },
    {
      "cell_type": "markdown",
      "metadata": {
        "id": "F3LI-5KNIKSi"
      },
      "source": [
        "This score does not beat the score obtained from default parameters of MLP."
      ]
    },
    {
      "cell_type": "markdown",
      "metadata": {
        "id": "b_RQ-SsPLEUA"
      },
      "source": [
        "\n",
        "\n",
        "---\n",
        "\n",
        "Results"
      ]
    },
    {
      "cell_type": "code",
      "metadata": {
        "id": "Yc6TqFkIJQjP"
      },
      "source": [
        "y_pred = best_svc.predict(x_test)"
      ],
      "execution_count": 86,
      "outputs": []
    },
    {
      "cell_type": "markdown",
      "metadata": {
        "id": "uiLalbEiJKGq"
      },
      "source": [
        "F1 Score from best classifier with best parameters."
      ]
    },
    {
      "cell_type": "code",
      "metadata": {
        "colab": {
          "base_uri": "https://localhost:8080/"
        },
        "id": "xy3VegA8I_CX",
        "outputId": "9ee4455c-d7f7-44ae-9184-7ac0f49f7531"
      },
      "source": [
        "f1_score(y_test,y_pred)"
      ],
      "execution_count": 88,
      "outputs": [
        {
          "output_type": "execute_result",
          "data": {
            "text/plain": [
              "0.9665211062590975"
            ]
          },
          "metadata": {
            "tags": []
          },
          "execution_count": 88
        }
      ]
    },
    {
      "cell_type": "markdown",
      "metadata": {
        "id": "CuhWTgprJ3_F"
      },
      "source": [
        "Precision from best classifier with best parameters."
      ]
    },
    {
      "cell_type": "code",
      "metadata": {
        "colab": {
          "base_uri": "https://localhost:8080/"
        },
        "id": "cF33ecA1JyJn",
        "outputId": "2e888f46-eb86-4e97-94c7-cbf4a23e819b"
      },
      "source": [
        "precision_score(y_test,y_pred)"
      ],
      "execution_count": 90,
      "outputs": [
        {
          "output_type": "execute_result",
          "data": {
            "text/plain": [
              "0.97265625"
            ]
          },
          "metadata": {
            "tags": []
          },
          "execution_count": 90
        }
      ]
    },
    {
      "cell_type": "markdown",
      "metadata": {
        "id": "WnKBwnmBJ9wx"
      },
      "source": [
        "Recall from best classifier with best parameters."
      ]
    },
    {
      "cell_type": "code",
      "metadata": {
        "colab": {
          "base_uri": "https://localhost:8080/"
        },
        "id": "9wdX_HRDJ8Tl",
        "outputId": "e721f0d7-27f5-449c-d18e-9a5298fbc9c1"
      },
      "source": [
        "recall_score(y_test,y_pred)"
      ],
      "execution_count": 92,
      "outputs": [
        {
          "output_type": "execute_result",
          "data": {
            "text/plain": [
              "0.9604628736740598"
            ]
          },
          "metadata": {
            "tags": []
          },
          "execution_count": 92
        }
      ]
    },
    {
      "cell_type": "markdown",
      "metadata": {
        "id": "zD-Jmdm5Kaod"
      },
      "source": [
        "Accuracy from best classifier with best parameters."
      ]
    },
    {
      "cell_type": "code",
      "metadata": {
        "colab": {
          "base_uri": "https://localhost:8080/"
        },
        "id": "auRXjTAaKaC2",
        "outputId": "9160627b-d83f-405c-de21-fd72aed48873"
      },
      "source": [
        "best_svc.score(x_test, y_test)"
      ],
      "execution_count": 93,
      "outputs": [
        {
          "output_type": "execute_result",
          "data": {
            "text/plain": [
              "0.967906976744186"
            ]
          },
          "metadata": {
            "tags": []
          },
          "execution_count": 93
        }
      ]
    },
    {
      "cell_type": "markdown",
      "metadata": {
        "id": "a5wAodC9KqK2"
      },
      "source": [
        "Visualization and Testing On Real World Examples"
      ]
    },
    {
      "cell_type": "code",
      "metadata": {
        "id": "PIAeRgjIM486"
      },
      "source": [
        "def classify(i):\n",
        "  img = cv2.imread('/content/gdrive/MyDrive/Mini Project/test/'+str(i)+'.jpg')\n",
        "  img2 = cv2.resize(img, dsize=(32, 32), interpolation=cv2.INTER_CUBIC)\n",
        "  img2 = np.array(img2)\n",
        "  img2 = img2.flatten()\n",
        "  y = best_svc.predict([img2])\n",
        "  print(y)\n",
        "  if y[0]==0:\n",
        "    print('Without Mask')\n",
        "  else: \n",
        "    print('With Mask')\n",
        "  plt.imshow(img, interpolation = 'nearest')\n",
        "  plt.axis('off')\n",
        "  plt.show()"
      ],
      "execution_count": 146,
      "outputs": []
    },
    {
      "cell_type": "code",
      "metadata": {
        "colab": {
          "base_uri": "https://localhost:8080/",
          "height": 282
        },
        "id": "BBciSNtdcEr7",
        "outputId": "b1c0ab27-c891-47c9-8123-8916bdae0c3f"
      },
      "source": [
        "classify(1)"
      ],
      "execution_count": 160,
      "outputs": [
        {
          "output_type": "stream",
          "text": [
            "[0]\n",
            "Without Mask\n"
          ],
          "name": "stdout"
        },
        {
          "output_type": "display_data",
          "data": {
            "image/png": "[encoded data removed]",
            "text/plain": [
              "<Figure size 432x288 with 1 Axes>"
            ]
          },
          "metadata": {
            "tags": [],
            "needs_background": "light"
          }
        }
      ]
    },
    {
      "cell_type": "code",
      "metadata": {
        "colab": {
          "base_uri": "https://localhost:8080/",
          "height": 282
        },
        "id": "GykzspPudHw0",
        "outputId": "b463c49f-e12d-431a-efc4-965ec720d085"
      },
      "source": [
        "classify(2)"
      ],
      "execution_count": 165,
      "outputs": [
        {
          "output_type": "stream",
          "text": [
            "[0]\n",
            "Without Mask\n"
          ],
          "name": "stdout"
        },
        {
          "output_type": "display_data",
          "data": {
            "image/png": "[encoded data removed]",
            "text/plain": [
              "<Figure size 432x288 with 1 Axes>"
            ]
          },
          "metadata": {
            "tags": [],
            "needs_background": "light"
          }
        }
      ]
    },
    {
      "cell_type": "code",
      "metadata": {
        "colab": {
          "base_uri": "https://localhost:8080/",
          "height": 282
        },
        "id": "EfmLoxj6cJsG",
        "outputId": "3302c1ad-db20-44e6-8fd4-1368752dfb05"
      },
      "source": [
        "classify(3)"
      ],
      "execution_count": 149,
      "outputs": [
        {
          "output_type": "stream",
          "text": [
            "[1]\n",
            "With Mask\n"
          ],
          "name": "stdout"
        },
        {
          "output_type": "display_data",
          "data": {
            "image/png": "[encoded data removed]",
            "text/plain": [
              "<Figure size 432x288 with 1 Axes>"
            ]
          },
          "metadata": {
            "tags": [],
            "needs_background": "light"
          }
        }
      ]
    },
    {
      "cell_type": "code",
      "metadata": {
        "colab": {
          "base_uri": "https://localhost:8080/",
          "height": 282
        },
        "id": "IXNzRuzocRlZ",
        "outputId": "512e5057-0b8f-44bf-f7ab-36fcfd1336cc"
      },
      "source": [
        "classify(4)"
      ],
      "execution_count": 150,
      "outputs": [
        {
          "output_type": "stream",
          "text": [
            "[1]\n",
            "With Mask\n"
          ],
          "name": "stdout"
        },
        {
          "output_type": "display_data",
          "data": {
            "image/png": "[encoded data removed]",
            "text/plain": [
              "<Figure size 432x288 with 1 Axes>"
            ]
          },
          "metadata": {
            "tags": [],
            "needs_background": "light"
          }
        }
      ]
    },
    {
      "cell_type": "code",
      "metadata": {
        "colab": {
          "base_uri": "https://localhost:8080/",
          "height": 282
        },
        "id": "Yyn7lkQpcUce",
        "outputId": "3ba50654-885f-4625-ce8d-627539e4cf07"
      },
      "source": [
        "classify(5)"
      ],
      "execution_count": 151,
      "outputs": [
        {
          "output_type": "stream",
          "text": [
            "[1]\n",
            "With Mask\n"
          ],
          "name": "stdout"
        },
        {
          "output_type": "display_data",
          "data": {
            "image/png": "[encoded data removed]",
            "text/plain": [
              "<Figure size 432x288 with 1 Axes>"
            ]
          },
          "metadata": {
            "tags": [],
            "needs_background": "light"
          }
        }
      ]
    },
    {
      "cell_type": "code",
      "metadata": {
        "colab": {
          "base_uri": "https://localhost:8080/",
          "height": 282
        },
        "id": "H9jX5RZjcXA1",
        "outputId": "5184e8ea-10fb-4b77-f48e-22b66c3db512"
      },
      "source": [
        "classify(6)"
      ],
      "execution_count": 152,
      "outputs": [
        {
          "output_type": "stream",
          "text": [
            "[1]\n",
            "With Mask\n"
          ],
          "name": "stdout"
        },
        {
          "output_type": "display_data",
          "data": {
            "image/png": "[encoded data removed]",
            "text/plain": [
              "<Figure size 432x288 with 1 Axes>"
            ]
          },
          "metadata": {
            "tags": [],
            "needs_background": "light"
          }
        }
      ]
    },
    {
      "cell_type": "code",
      "metadata": {
        "colab": {
          "base_uri": "https://localhost:8080/",
          "height": 282
        },
        "id": "hcxkfuQ3cZUK",
        "outputId": "9e7ea7c2-d7a0-405d-9211-ff571716afb7"
      },
      "source": [
        "classify(7)"
      ],
      "execution_count": 153,
      "outputs": [
        {
          "output_type": "stream",
          "text": [
            "[0]\n",
            "Without Mask\n"
          ],
          "name": "stdout"
        },
        {
          "output_type": "display_data",
          "data": {
            "image/png": "[encoded data removed]",
            "text/plain": [
              "<Figure size 432x288 with 1 Axes>"
            ]
          },
          "metadata": {
            "tags": [],
            "needs_background": "light"
          }
        }
      ]
    },
    {
      "cell_type": "code",
      "metadata": {
        "colab": {
          "base_uri": "https://localhost:8080/",
          "height": 282
        },
        "id": "v3KCFDu0cbyx",
        "outputId": "d29a7234-6897-4035-e523-c85ca892a8ad"
      },
      "source": [
        "classify(8)"
      ],
      "execution_count": 154,
      "outputs": [
        {
          "output_type": "stream",
          "text": [
            "[1]\n",
            "With Mask\n"
          ],
          "name": "stdout"
        },
        {
          "output_type": "display_data",
          "data": {
            "image/png": "[encoded data removed]",
            "text/plain": [
              "<Figure size 432x288 with 1 Axes>"
            ]
          },
          "metadata": {
            "tags": [],
            "needs_background": "light"
          }
        }
      ]
    },
    {
      "cell_type": "code",
      "metadata": {
        "colab": {
          "base_uri": "https://localhost:8080/",
          "height": 282
        },
        "id": "S2hQXk0dcdyc",
        "outputId": "c0fdd9b2-0c2c-47fd-ff38-2f4904a33177"
      },
      "source": [
        "classify(9)"
      ],
      "execution_count": 155,
      "outputs": [
        {
          "output_type": "stream",
          "text": [
            "[0]\n",
            "Without Mask\n"
          ],
          "name": "stdout"
        },
        {
          "output_type": "display_data",
          "data": {
            "image/png": "[encoded data removed]",
            "text/plain": [
              "<Figure size 432x288 with 1 Axes>"
            ]
          },
          "metadata": {
            "tags": [],
            "needs_background": "light"
          }
        }
      ]
    },
    {
      "cell_type": "code",
      "metadata": {
        "colab": {
          "base_uri": "https://localhost:8080/",
          "height": 282
        },
        "id": "jF0tyo2scf6u",
        "outputId": "35eb3c51-bfab-4286-a514-dfe9042a7fc0"
      },
      "source": [
        "classify(10)"
      ],
      "execution_count": 156,
      "outputs": [
        {
          "output_type": "stream",
          "text": [
            "[1]\n",
            "With Mask\n"
          ],
          "name": "stdout"
        },
        {
          "output_type": "display_data",
          "data": {
            "image/png": "[encoded data removed]",
            "text/plain": [
              "<Figure size 432x288 with 1 Axes>"
            ]
          },
          "metadata": {
            "tags": [],
            "needs_background": "light"
          }
        }
      ]
    }
  ]
}